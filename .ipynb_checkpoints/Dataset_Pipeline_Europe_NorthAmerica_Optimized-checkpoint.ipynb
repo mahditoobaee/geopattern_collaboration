{
 "cells": [
  {
   "cell_type": "code",
   "execution_count": 1,
   "id": "1fb83862",
   "metadata": {},
   "outputs": [
    {
     "data": {
      "text/html": [
       "\n",
       "<style>\n",
       "    div#notebook-container    { width: 95%; }\n",
       "    div#menubar-container     { width: 85%; }\n",
       "    div#maintoolbar-container { width: 99%; }\n",
       "</style>\n"
      ],
      "text/plain": [
       "<IPython.core.display.HTML object>"
      ]
     },
     "metadata": {},
     "output_type": "display_data"
    },
    {
     "name": "stdout",
     "output_type": "stream",
     "text": [
      "Enlarging the screen is done!\n",
      "Libraries were imported successfully!\n",
      "Loading data from sql is done!\n"
     ]
    },
    {
     "data": {
      "application/vnd.jupyter.widget-view+json": {
       "model_id": "54f25279c76343d7a7d61927c73c05c2",
       "version_major": 2,
       "version_minor": 0
      },
      "text/plain": [
       "Preparing the data set:   0%|          | 0/8 [00:00<?, ?it/s]"
      ]
     },
     "metadata": {},
     "output_type": "display_data"
    },
    {
     "data": {
      "application/vnd.jupyter.widget-view+json": {
       "model_id": "563da3cd91674a2eb9f42232c50e2172",
       "version_major": 2,
       "version_minor": 0
      },
      "text/plain": [
       "loop 1:   0%|          | 0/49 [00:00<?, ?it/s]"
      ]
     },
     "metadata": {},
     "output_type": "display_data"
    },
    {
     "data": {
      "application/vnd.jupyter.widget-view+json": {
       "model_id": "e41c0902264f40209898eab9b3cc218b",
       "version_major": 2,
       "version_minor": 0
      },
      "text/plain": [
       "loop 2:   0%|          | 0/49 [00:00<?, ?it/s]"
      ]
     },
     "metadata": {},
     "output_type": "display_data"
    },
    {
     "data": {
      "application/vnd.jupyter.widget-view+json": {
       "model_id": "fa7eedfb9cb54aa789bbeedae1592fb5",
       "version_major": 2,
       "version_minor": 0
      },
      "text/plain": [
       "loop 3:   0%|          | 0/49 [00:00<?, ?it/s]"
      ]
     },
     "metadata": {},
     "output_type": "display_data"
    },
    {
     "data": {
      "application/vnd.jupyter.widget-view+json": {
       "model_id": "d44c86d3db804ff29f7f54a719b9e178",
       "version_major": 2,
       "version_minor": 0
      },
      "text/plain": [
       "loop 4:   0%|          | 0/49 [00:00<?, ?it/s]"
      ]
     },
     "metadata": {},
     "output_type": "display_data"
    },
    {
     "data": {
      "application/vnd.jupyter.widget-view+json": {
       "model_id": "21b43c6e5fab444c9238b750110fabc4",
       "version_major": 2,
       "version_minor": 0
      },
      "text/plain": [
       "loop 5:   0%|          | 0/49 [00:00<?, ?it/s]"
      ]
     },
     "metadata": {},
     "output_type": "display_data"
    },
    {
     "name": "stdout",
     "output_type": "stream",
     "text": [
      "2004 to 2005 : Authors: 49 collaborations: 25\n"
     ]
    },
    {
     "data": {
      "application/vnd.jupyter.widget-view+json": {
       "model_id": "ba319b5ce3ef40dcad33541875ef4ea5",
       "version_major": 2,
       "version_minor": 0
      },
      "text/plain": [
       "loop 6:   0%|          | 0/49 [00:00<?, ?it/s]"
      ]
     },
     "metadata": {},
     "output_type": "display_data"
    },
    {
     "data": {
      "application/vnd.jupyter.widget-view+json": {
       "model_id": "7cf5a4b7cf104e5b86b5155d9747a84a",
       "version_major": 2,
       "version_minor": 0
      },
      "text/plain": [
       "loop 7:   0%|          | 0/49 [00:00<?, ?it/s]"
      ]
     },
     "metadata": {},
     "output_type": "display_data"
    },
    {
     "data": {
      "application/vnd.jupyter.widget-view+json": {
       "model_id": "444c1656a7e74d728e7e7d35e1e34998",
       "version_major": 2,
       "version_minor": 0
      },
      "text/plain": [
       "loop 8:   0%|          | 0/49 [00:00<?, ?it/s]"
      ]
     },
     "metadata": {},
     "output_type": "display_data"
    },
    {
     "data": {
      "application/vnd.jupyter.widget-view+json": {
       "model_id": "bb3f74d2f2dc4438ab419ed8541ad8ad",
       "version_major": 2,
       "version_minor": 0
      },
      "text/plain": [
       "loop 9:   0%|          | 0/49 [00:00<?, ?it/s]"
      ]
     },
     "metadata": {},
     "output_type": "display_data"
    },
    {
     "data": {
      "application/vnd.jupyter.widget-view+json": {
       "model_id": "c63f5316ad614c3180bd58269b651a5a",
       "version_major": 2,
       "version_minor": 0
      },
      "text/plain": [
       "loop 10:   0%|          | 0/49 [00:00<?, ?it/s]"
      ]
     },
     "metadata": {},
     "output_type": "display_data"
    },
    {
     "data": {
      "application/vnd.jupyter.widget-view+json": {
       "model_id": "aaa3d7bff9b44041bfbfc618057d0a39",
       "version_major": 2,
       "version_minor": 0
      },
      "text/plain": [
       "loop 11:   0%|          | 0/49 [00:00<?, ?it/s]"
      ]
     },
     "metadata": {},
     "output_type": "display_data"
    },
    {
     "data": {
      "application/vnd.jupyter.widget-view+json": {
       "model_id": "5d7eb3834912494c8df2b57606315092",
       "version_major": 2,
       "version_minor": 0
      },
      "text/plain": [
       "loop 12:   0%|          | 0/49 [00:00<?, ?it/s]"
      ]
     },
     "metadata": {},
     "output_type": "display_data"
    },
    {
     "data": {
      "application/vnd.jupyter.widget-view+json": {
       "model_id": "6245e034bce54e9ab9571c9b4bef1ab7",
       "version_major": 2,
       "version_minor": 0
      },
      "text/plain": [
       "loop 13:   0%|          | 0/49 [00:00<?, ?it/s]"
      ]
     },
     "metadata": {},
     "output_type": "display_data"
    },
    {
     "data": {
      "application/vnd.jupyter.widget-view+json": {
       "model_id": "71ffbecdbd82407e8469c907823c8939",
       "version_major": 2,
       "version_minor": 0
      },
      "text/plain": [
       "loop 13:   0%|          | 0/49 [00:00<?, ?it/s]"
      ]
     },
     "metadata": {},
     "output_type": "display_data"
    },
    {
     "data": {
      "application/vnd.jupyter.widget-view+json": {
       "model_id": "cdbf6146b3af4086a20c162b2e0e5b1e",
       "version_major": 2,
       "version_minor": 0
      },
      "text/plain": [
       "loop 14:   0%|          | 0/37 [00:00<?, ?it/s]"
      ]
     },
     "metadata": {},
     "output_type": "display_data"
    },
    {
     "data": {
      "application/vnd.jupyter.widget-view+json": {
       "model_id": "0ef1ca8a465b484c88b21e0c479ff700",
       "version_major": 2,
       "version_minor": 0
      },
      "text/plain": [
       "  0%|          | 0/1176 [00:00<?, ?it/s]"
      ]
     },
     "metadata": {},
     "output_type": "display_data"
    },
    {
     "data": {
      "application/vnd.jupyter.widget-view+json": {
       "model_id": "f3b87a66265341809c5da64cd9a884c7",
       "version_major": 2,
       "version_minor": 0
      },
      "text/plain": [
       "loop 16:   0%|          | 0/1176 [00:00<?, ?it/s]"
      ]
     },
     "metadata": {},
     "output_type": "display_data"
    },
    {
     "data": {
      "application/vnd.jupyter.widget-view+json": {
       "model_id": "12e37c2747444aedb62ecc8bb2074225",
       "version_major": 2,
       "version_minor": 0
      },
      "text/plain": [
       "  0%|          | 0/1176 [00:00<?, ?it/s]"
      ]
     },
     "metadata": {},
     "output_type": "display_data"
    },
    {
     "data": {
      "application/vnd.jupyter.widget-view+json": {
       "model_id": "29223834e77c46c4a87032bc5cb37e4c",
       "version_major": 2,
       "version_minor": 0
      },
      "text/plain": [
       "  0%|          | 0/1176 [00:00<?, ?it/s]"
      ]
     },
     "metadata": {},
     "output_type": "display_data"
    },
    {
     "data": {
      "application/vnd.jupyter.widget-view+json": {
       "model_id": "51d928ee5104454baa259508f177155a",
       "version_major": 2,
       "version_minor": 0
      },
      "text/plain": [
       "  0%|          | 0/1176 [00:00<?, ?it/s]"
      ]
     },
     "metadata": {},
     "output_type": "display_data"
    },
    {
     "data": {
      "application/vnd.jupyter.widget-view+json": {
       "model_id": "2d1d9660ccd94d13ab4e62fdab3e679d",
       "version_major": 2,
       "version_minor": 0
      },
      "text/plain": [
       "loop 1:   0%|          | 0/124 [00:00<?, ?it/s]"
      ]
     },
     "metadata": {},
     "output_type": "display_data"
    },
    {
     "data": {
      "application/vnd.jupyter.widget-view+json": {
       "model_id": "1aec7a0499064673992ca50f678770d5",
       "version_major": 2,
       "version_minor": 0
      },
      "text/plain": [
       "loop 2:   0%|          | 0/124 [00:00<?, ?it/s]"
      ]
     },
     "metadata": {},
     "output_type": "display_data"
    },
    {
     "data": {
      "application/vnd.jupyter.widget-view+json": {
       "model_id": "ecff1c34788243ff8e096549109ac970",
       "version_major": 2,
       "version_minor": 0
      },
      "text/plain": [
       "loop 3:   0%|          | 0/124 [00:00<?, ?it/s]"
      ]
     },
     "metadata": {},
     "output_type": "display_data"
    },
    {
     "data": {
      "application/vnd.jupyter.widget-view+json": {
       "model_id": "bc88cd93933242179d7eea8350d9d1b3",
       "version_major": 2,
       "version_minor": 0
      },
      "text/plain": [
       "loop 4:   0%|          | 0/124 [00:00<?, ?it/s]"
      ]
     },
     "metadata": {},
     "output_type": "display_data"
    },
    {
     "data": {
      "application/vnd.jupyter.widget-view+json": {
       "model_id": "57e6e16da66747c8ad39ec304f77d4c9",
       "version_major": 2,
       "version_minor": 0
      },
      "text/plain": [
       "loop 5:   0%|          | 0/124 [00:00<?, ?it/s]"
      ]
     },
     "metadata": {},
     "output_type": "display_data"
    },
    {
     "name": "stdout",
     "output_type": "stream",
     "text": [
      "2006 to 2007 : Authors: 124 collaborations: 77\n"
     ]
    },
    {
     "data": {
      "application/vnd.jupyter.widget-view+json": {
       "model_id": "70bb83d0dd174945814fcb02c4b8b847",
       "version_major": 2,
       "version_minor": 0
      },
      "text/plain": [
       "loop 6:   0%|          | 0/124 [00:00<?, ?it/s]"
      ]
     },
     "metadata": {},
     "output_type": "display_data"
    },
    {
     "data": {
      "application/vnd.jupyter.widget-view+json": {
       "model_id": "a734e3b4f92c4431b51c11c446329b0a",
       "version_major": 2,
       "version_minor": 0
      },
      "text/plain": [
       "loop 7:   0%|          | 0/124 [00:00<?, ?it/s]"
      ]
     },
     "metadata": {},
     "output_type": "display_data"
    },
    {
     "data": {
      "application/vnd.jupyter.widget-view+json": {
       "model_id": "5890351db9fd429eb03d91a72bdd3c00",
       "version_major": 2,
       "version_minor": 0
      },
      "text/plain": [
       "loop 8:   0%|          | 0/124 [00:00<?, ?it/s]"
      ]
     },
     "metadata": {},
     "output_type": "display_data"
    },
    {
     "data": {
      "application/vnd.jupyter.widget-view+json": {
       "model_id": "2c1e6861015643f4b1eae448980c3b50",
       "version_major": 2,
       "version_minor": 0
      },
      "text/plain": [
       "loop 9:   0%|          | 0/124 [00:00<?, ?it/s]"
      ]
     },
     "metadata": {},
     "output_type": "display_data"
    },
    {
     "data": {
      "application/vnd.jupyter.widget-view+json": {
       "model_id": "246f9fae3d304bd990ba679888577601",
       "version_major": 2,
       "version_minor": 0
      },
      "text/plain": [
       "loop 10:   0%|          | 0/124 [00:00<?, ?it/s]"
      ]
     },
     "metadata": {},
     "output_type": "display_data"
    },
    {
     "data": {
      "application/vnd.jupyter.widget-view+json": {
       "model_id": "6c52bff668ad485ea746f76b8e8a328d",
       "version_major": 2,
       "version_minor": 0
      },
      "text/plain": [
       "loop 11:   0%|          | 0/124 [00:00<?, ?it/s]"
      ]
     },
     "metadata": {},
     "output_type": "display_data"
    },
    {
     "data": {
      "application/vnd.jupyter.widget-view+json": {
       "model_id": "12e898a5ab4d4032a006f0447611c276",
       "version_major": 2,
       "version_minor": 0
      },
      "text/plain": [
       "loop 12:   0%|          | 0/124 [00:00<?, ?it/s]"
      ]
     },
     "metadata": {},
     "output_type": "display_data"
    },
    {
     "data": {
      "application/vnd.jupyter.widget-view+json": {
       "model_id": "42cd07d451c340028e207e5244e5028b",
       "version_major": 2,
       "version_minor": 0
      },
      "text/plain": [
       "loop 13:   0%|          | 0/124 [00:00<?, ?it/s]"
      ]
     },
     "metadata": {},
     "output_type": "display_data"
    },
    {
     "data": {
      "application/vnd.jupyter.widget-view+json": {
       "model_id": "393b029b07a84bbc90a73cc2dce32f9d",
       "version_major": 2,
       "version_minor": 0
      },
      "text/plain": [
       "loop 13:   0%|          | 0/124 [00:00<?, ?it/s]"
      ]
     },
     "metadata": {},
     "output_type": "display_data"
    },
    {
     "data": {
      "application/vnd.jupyter.widget-view+json": {
       "model_id": "8cea3009309248dfb24c4e95ced43dfb",
       "version_major": 2,
       "version_minor": 0
      },
      "text/plain": [
       "loop 14:   0%|          | 0/98 [00:00<?, ?it/s]"
      ]
     },
     "metadata": {},
     "output_type": "display_data"
    },
    {
     "data": {
      "application/vnd.jupyter.widget-view+json": {
       "model_id": "a083521e60604b07a95865bc6d35978b",
       "version_major": 2,
       "version_minor": 0
      },
      "text/plain": [
       "  0%|          | 0/7626 [00:00<?, ?it/s]"
      ]
     },
     "metadata": {},
     "output_type": "display_data"
    },
    {
     "data": {
      "application/vnd.jupyter.widget-view+json": {
       "model_id": "4ae480c8c6244b13943f97f5dd334ae4",
       "version_major": 2,
       "version_minor": 0
      },
      "text/plain": [
       "loop 16:   0%|          | 0/7626 [00:00<?, ?it/s]"
      ]
     },
     "metadata": {},
     "output_type": "display_data"
    },
    {
     "data": {
      "application/vnd.jupyter.widget-view+json": {
       "model_id": "7ac6e7e1cf114966aefde2a7b3f865a2",
       "version_major": 2,
       "version_minor": 0
      },
      "text/plain": [
       "  0%|          | 0/7626 [00:00<?, ?it/s]"
      ]
     },
     "metadata": {},
     "output_type": "display_data"
    },
    {
     "data": {
      "application/vnd.jupyter.widget-view+json": {
       "model_id": "ae142616865c4aac9d004e6907d04272",
       "version_major": 2,
       "version_minor": 0
      },
      "text/plain": [
       "  0%|          | 0/7626 [00:00<?, ?it/s]"
      ]
     },
     "metadata": {},
     "output_type": "display_data"
    },
    {
     "data": {
      "application/vnd.jupyter.widget-view+json": {
       "model_id": "fc569081075141e08201800f6a2c12ac",
       "version_major": 2,
       "version_minor": 0
      },
      "text/plain": [
       "  0%|          | 0/7626 [00:00<?, ?it/s]"
      ]
     },
     "metadata": {},
     "output_type": "display_data"
    },
    {
     "data": {
      "application/vnd.jupyter.widget-view+json": {
       "model_id": "d3cabb91cdc04958b13885fc91877e4c",
       "version_major": 2,
       "version_minor": 0
      },
      "text/plain": [
       "loop 1:   0%|          | 0/210 [00:00<?, ?it/s]"
      ]
     },
     "metadata": {},
     "output_type": "display_data"
    },
    {
     "data": {
      "application/vnd.jupyter.widget-view+json": {
       "model_id": "a8346d67dba54d3493ce2c74b0d0e3a0",
       "version_major": 2,
       "version_minor": 0
      },
      "text/plain": [
       "loop 2:   0%|          | 0/210 [00:00<?, ?it/s]"
      ]
     },
     "metadata": {},
     "output_type": "display_data"
    },
    {
     "data": {
      "application/vnd.jupyter.widget-view+json": {
       "model_id": "a545eca9863342c48fdd43b80863367d",
       "version_major": 2,
       "version_minor": 0
      },
      "text/plain": [
       "loop 3:   0%|          | 0/210 [00:00<?, ?it/s]"
      ]
     },
     "metadata": {},
     "output_type": "display_data"
    },
    {
     "data": {
      "application/vnd.jupyter.widget-view+json": {
       "model_id": "49b526f0441346a98ae2597e19dbb7ef",
       "version_major": 2,
       "version_minor": 0
      },
      "text/plain": [
       "loop 4:   0%|          | 0/210 [00:00<?, ?it/s]"
      ]
     },
     "metadata": {},
     "output_type": "display_data"
    },
    {
     "data": {
      "application/vnd.jupyter.widget-view+json": {
       "model_id": "7799db5b760d45ab86504232dea8e59f",
       "version_major": 2,
       "version_minor": 0
      },
      "text/plain": [
       "loop 5:   0%|          | 0/210 [00:00<?, ?it/s]"
      ]
     },
     "metadata": {},
     "output_type": "display_data"
    },
    {
     "name": "stdout",
     "output_type": "stream",
     "text": [
      "2008 to 2009 : Authors: 210 collaborations: 130\n"
     ]
    },
    {
     "data": {
      "application/vnd.jupyter.widget-view+json": {
       "model_id": "7225d80591e54967b3505e42433f50f9",
       "version_major": 2,
       "version_minor": 0
      },
      "text/plain": [
       "loop 6:   0%|          | 0/210 [00:00<?, ?it/s]"
      ]
     },
     "metadata": {},
     "output_type": "display_data"
    },
    {
     "data": {
      "application/vnd.jupyter.widget-view+json": {
       "model_id": "e0deb8c2dbbd4df4a03d144c15bda426",
       "version_major": 2,
       "version_minor": 0
      },
      "text/plain": [
       "loop 7:   0%|          | 0/210 [00:00<?, ?it/s]"
      ]
     },
     "metadata": {},
     "output_type": "display_data"
    },
    {
     "data": {
      "application/vnd.jupyter.widget-view+json": {
       "model_id": "d33e4aba72534ff6965569b6509bbd40",
       "version_major": 2,
       "version_minor": 0
      },
      "text/plain": [
       "loop 8:   0%|          | 0/210 [00:00<?, ?it/s]"
      ]
     },
     "metadata": {},
     "output_type": "display_data"
    },
    {
     "data": {
      "application/vnd.jupyter.widget-view+json": {
       "model_id": "5cbd2016b2cd4084826eac20c9ed0e42",
       "version_major": 2,
       "version_minor": 0
      },
      "text/plain": [
       "loop 9:   0%|          | 0/210 [00:00<?, ?it/s]"
      ]
     },
     "metadata": {},
     "output_type": "display_data"
    },
    {
     "data": {
      "application/vnd.jupyter.widget-view+json": {
       "model_id": "6e04cf66ee1d45b98cf9753a36490501",
       "version_major": 2,
       "version_minor": 0
      },
      "text/plain": [
       "loop 10:   0%|          | 0/210 [00:00<?, ?it/s]"
      ]
     },
     "metadata": {},
     "output_type": "display_data"
    },
    {
     "data": {
      "application/vnd.jupyter.widget-view+json": {
       "model_id": "67eab889dd344c1196240f67db744725",
       "version_major": 2,
       "version_minor": 0
      },
      "text/plain": [
       "loop 11:   0%|          | 0/210 [00:00<?, ?it/s]"
      ]
     },
     "metadata": {},
     "output_type": "display_data"
    },
    {
     "data": {
      "application/vnd.jupyter.widget-view+json": {
       "model_id": "933560832a56491dab746f348a3fed43",
       "version_major": 2,
       "version_minor": 0
      },
      "text/plain": [
       "loop 12:   0%|          | 0/210 [00:00<?, ?it/s]"
      ]
     },
     "metadata": {},
     "output_type": "display_data"
    },
    {
     "data": {
      "application/vnd.jupyter.widget-view+json": {
       "model_id": "72a2bdb99f3a4a5ab03ecc37ecdff72b",
       "version_major": 2,
       "version_minor": 0
      },
      "text/plain": [
       "loop 13:   0%|          | 0/210 [00:00<?, ?it/s]"
      ]
     },
     "metadata": {},
     "output_type": "display_data"
    },
    {
     "data": {
      "application/vnd.jupyter.widget-view+json": {
       "model_id": "9273a0e20fc548d1be7290f50520b597",
       "version_major": 2,
       "version_minor": 0
      },
      "text/plain": [
       "loop 13:   0%|          | 0/210 [00:00<?, ?it/s]"
      ]
     },
     "metadata": {},
     "output_type": "display_data"
    },
    {
     "data": {
      "application/vnd.jupyter.widget-view+json": {
       "model_id": "e70c98cb2c0749cfa509088fde7d6061",
       "version_major": 2,
       "version_minor": 0
      },
      "text/plain": [
       "loop 14:   0%|          | 0/179 [00:00<?, ?it/s]"
      ]
     },
     "metadata": {},
     "output_type": "display_data"
    },
    {
     "data": {
      "application/vnd.jupyter.widget-view+json": {
       "model_id": "af3c8556b086485f9606111c1bb46b9b",
       "version_major": 2,
       "version_minor": 0
      },
      "text/plain": [
       "  0%|          | 0/21945 [00:00<?, ?it/s]"
      ]
     },
     "metadata": {},
     "output_type": "display_data"
    },
    {
     "data": {
      "application/vnd.jupyter.widget-view+json": {
       "model_id": "f527c86cc6bd4825bcb132ece6b78a92",
       "version_major": 2,
       "version_minor": 0
      },
      "text/plain": [
       "loop 16:   0%|          | 0/21945 [00:00<?, ?it/s]"
      ]
     },
     "metadata": {},
     "output_type": "display_data"
    },
    {
     "data": {
      "application/vnd.jupyter.widget-view+json": {
       "model_id": "507708fff352485c82a851a07f09143d",
       "version_major": 2,
       "version_minor": 0
      },
      "text/plain": [
       "  0%|          | 0/21945 [00:00<?, ?it/s]"
      ]
     },
     "metadata": {},
     "output_type": "display_data"
    },
    {
     "data": {
      "application/vnd.jupyter.widget-view+json": {
       "model_id": "4e06f853727047629dfa5661f3aeb999",
       "version_major": 2,
       "version_minor": 0
      },
      "text/plain": [
       "  0%|          | 0/21945 [00:00<?, ?it/s]"
      ]
     },
     "metadata": {},
     "output_type": "display_data"
    },
    {
     "data": {
      "application/vnd.jupyter.widget-view+json": {
       "model_id": "44ab2ff4506f4582884cd3a455cdecdf",
       "version_major": 2,
       "version_minor": 0
      },
      "text/plain": [
       "  0%|          | 0/21945 [00:00<?, ?it/s]"
      ]
     },
     "metadata": {},
     "output_type": "display_data"
    },
    {
     "data": {
      "application/vnd.jupyter.widget-view+json": {
       "model_id": "c3f4da398b474dd2aa9cf90057b07ed7",
       "version_major": 2,
       "version_minor": 0
      },
      "text/plain": [
       "loop 1:   0%|          | 0/254 [00:00<?, ?it/s]"
      ]
     },
     "metadata": {},
     "output_type": "display_data"
    },
    {
     "data": {
      "application/vnd.jupyter.widget-view+json": {
       "model_id": "64dab7097929476a9d01a0d07f1f04f8",
       "version_major": 2,
       "version_minor": 0
      },
      "text/plain": [
       "loop 2:   0%|          | 0/254 [00:00<?, ?it/s]"
      ]
     },
     "metadata": {},
     "output_type": "display_data"
    },
    {
     "data": {
      "application/vnd.jupyter.widget-view+json": {
       "model_id": "ff3402af5cb64045a809638f12992aa1",
       "version_major": 2,
       "version_minor": 0
      },
      "text/plain": [
       "loop 3:   0%|          | 0/254 [00:00<?, ?it/s]"
      ]
     },
     "metadata": {},
     "output_type": "display_data"
    },
    {
     "data": {
      "application/vnd.jupyter.widget-view+json": {
       "model_id": "32712ca63b3b4ca2ad689b08965328bf",
       "version_major": 2,
       "version_minor": 0
      },
      "text/plain": [
       "loop 4:   0%|          | 0/254 [00:00<?, ?it/s]"
      ]
     },
     "metadata": {},
     "output_type": "display_data"
    },
    {
     "data": {
      "application/vnd.jupyter.widget-view+json": {
       "model_id": "d77dd99f0231406e9f6ef5f376fbc688",
       "version_major": 2,
       "version_minor": 0
      },
      "text/plain": [
       "loop 5:   0%|          | 0/254 [00:00<?, ?it/s]"
      ]
     },
     "metadata": {},
     "output_type": "display_data"
    },
    {
     "name": "stdout",
     "output_type": "stream",
     "text": [
      "2010 to 2011 : Authors: 254 collaborations: 162\n"
     ]
    },
    {
     "data": {
      "application/vnd.jupyter.widget-view+json": {
       "model_id": "dc9a873f005a45b6a89e7284051f73d0",
       "version_major": 2,
       "version_minor": 0
      },
      "text/plain": [
       "loop 6:   0%|          | 0/254 [00:00<?, ?it/s]"
      ]
     },
     "metadata": {},
     "output_type": "display_data"
    },
    {
     "data": {
      "application/vnd.jupyter.widget-view+json": {
       "model_id": "3ed208bebe7341c8b5cc770451fe3f73",
       "version_major": 2,
       "version_minor": 0
      },
      "text/plain": [
       "loop 7:   0%|          | 0/254 [00:00<?, ?it/s]"
      ]
     },
     "metadata": {},
     "output_type": "display_data"
    },
    {
     "data": {
      "application/vnd.jupyter.widget-view+json": {
       "model_id": "5b20ea21bf1d4544922a55a52b299a0c",
       "version_major": 2,
       "version_minor": 0
      },
      "text/plain": [
       "loop 8:   0%|          | 0/254 [00:00<?, ?it/s]"
      ]
     },
     "metadata": {},
     "output_type": "display_data"
    },
    {
     "data": {
      "application/vnd.jupyter.widget-view+json": {
       "model_id": "5d4b54b53ff146909c3c25b8459dc57c",
       "version_major": 2,
       "version_minor": 0
      },
      "text/plain": [
       "loop 9:   0%|          | 0/254 [00:00<?, ?it/s]"
      ]
     },
     "metadata": {},
     "output_type": "display_data"
    },
    {
     "data": {
      "application/vnd.jupyter.widget-view+json": {
       "model_id": "98087f02820e45a7902b867b35de8c47",
       "version_major": 2,
       "version_minor": 0
      },
      "text/plain": [
       "loop 10:   0%|          | 0/254 [00:00<?, ?it/s]"
      ]
     },
     "metadata": {},
     "output_type": "display_data"
    },
    {
     "data": {
      "application/vnd.jupyter.widget-view+json": {
       "model_id": "f65a5b7d376c4ab48f6d6508a0a79850",
       "version_major": 2,
       "version_minor": 0
      },
      "text/plain": [
       "loop 11:   0%|          | 0/254 [00:00<?, ?it/s]"
      ]
     },
     "metadata": {},
     "output_type": "display_data"
    },
    {
     "data": {
      "application/vnd.jupyter.widget-view+json": {
       "model_id": "1e7bf3ba374540c8be962162b0934598",
       "version_major": 2,
       "version_minor": 0
      },
      "text/plain": [
       "loop 12:   0%|          | 0/254 [00:00<?, ?it/s]"
      ]
     },
     "metadata": {},
     "output_type": "display_data"
    },
    {
     "data": {
      "application/vnd.jupyter.widget-view+json": {
       "model_id": "c7bc9e9633a1446ea9ca3b63a48df479",
       "version_major": 2,
       "version_minor": 0
      },
      "text/plain": [
       "loop 13:   0%|          | 0/254 [00:00<?, ?it/s]"
      ]
     },
     "metadata": {},
     "output_type": "display_data"
    },
    {
     "data": {
      "application/vnd.jupyter.widget-view+json": {
       "model_id": "ae412f9f284d47dbbe138ce991d282e2",
       "version_major": 2,
       "version_minor": 0
      },
      "text/plain": [
       "loop 13:   0%|          | 0/254 [00:00<?, ?it/s]"
      ]
     },
     "metadata": {},
     "output_type": "display_data"
    },
    {
     "data": {
      "application/vnd.jupyter.widget-view+json": {
       "model_id": "91e349a803c643aaa52f9dfdbd446ee2",
       "version_major": 2,
       "version_minor": 0
      },
      "text/plain": [
       "loop 14:   0%|          | 0/177 [00:00<?, ?it/s]"
      ]
     },
     "metadata": {},
     "output_type": "display_data"
    },
    {
     "data": {
      "application/vnd.jupyter.widget-view+json": {
       "model_id": "3a56e987dca8450fad47e8f4672fe93c",
       "version_major": 2,
       "version_minor": 0
      },
      "text/plain": [
       "  0%|          | 0/32131 [00:00<?, ?it/s]"
      ]
     },
     "metadata": {},
     "output_type": "display_data"
    },
    {
     "data": {
      "application/vnd.jupyter.widget-view+json": {
       "model_id": "13dd880a9fa54d72979b8ace6a13c424",
       "version_major": 2,
       "version_minor": 0
      },
      "text/plain": [
       "loop 16:   0%|          | 0/32131 [00:00<?, ?it/s]"
      ]
     },
     "metadata": {},
     "output_type": "display_data"
    },
    {
     "data": {
      "application/vnd.jupyter.widget-view+json": {
       "model_id": "3f7814cbbdf8469793dde4e5721adf66",
       "version_major": 2,
       "version_minor": 0
      },
      "text/plain": [
       "  0%|          | 0/32131 [00:00<?, ?it/s]"
      ]
     },
     "metadata": {},
     "output_type": "display_data"
    },
    {
     "data": {
      "application/vnd.jupyter.widget-view+json": {
       "model_id": "f53eddb309aa406fab9fa3e32b490d5a",
       "version_major": 2,
       "version_minor": 0
      },
      "text/plain": [
       "  0%|          | 0/32131 [00:00<?, ?it/s]"
      ]
     },
     "metadata": {},
     "output_type": "display_data"
    },
    {
     "data": {
      "application/vnd.jupyter.widget-view+json": {
       "model_id": "39a931a54a224273bcdcc689c85c9504",
       "version_major": 2,
       "version_minor": 0
      },
      "text/plain": [
       "  0%|          | 0/32131 [00:00<?, ?it/s]"
      ]
     },
     "metadata": {},
     "output_type": "display_data"
    },
    {
     "data": {
      "application/vnd.jupyter.widget-view+json": {
       "model_id": "2152e978e7324dbe8f0f1a4350605b01",
       "version_major": 2,
       "version_minor": 0
      },
      "text/plain": [
       "loop 1:   0%|          | 0/342 [00:00<?, ?it/s]"
      ]
     },
     "metadata": {},
     "output_type": "display_data"
    },
    {
     "data": {
      "application/vnd.jupyter.widget-view+json": {
       "model_id": "e8bd7be862c744f9a1a7ce7a135f93de",
       "version_major": 2,
       "version_minor": 0
      },
      "text/plain": [
       "loop 2:   0%|          | 0/342 [00:00<?, ?it/s]"
      ]
     },
     "metadata": {},
     "output_type": "display_data"
    },
    {
     "data": {
      "application/vnd.jupyter.widget-view+json": {
       "model_id": "ae2032349edc4f7182f93a31ffbd39d4",
       "version_major": 2,
       "version_minor": 0
      },
      "text/plain": [
       "loop 3:   0%|          | 0/342 [00:00<?, ?it/s]"
      ]
     },
     "metadata": {},
     "output_type": "display_data"
    },
    {
     "data": {
      "application/vnd.jupyter.widget-view+json": {
       "model_id": "1898a1b93c6f43fc9cece74c5944d16e",
       "version_major": 2,
       "version_minor": 0
      },
      "text/plain": [
       "loop 4:   0%|          | 0/342 [00:00<?, ?it/s]"
      ]
     },
     "metadata": {},
     "output_type": "display_data"
    },
    {
     "data": {
      "application/vnd.jupyter.widget-view+json": {
       "model_id": "96eee3a3ce7b48ea8e2c94a623d73994",
       "version_major": 2,
       "version_minor": 0
      },
      "text/plain": [
       "loop 5:   0%|          | 0/342 [00:00<?, ?it/s]"
      ]
     },
     "metadata": {},
     "output_type": "display_data"
    },
    {
     "name": "stdout",
     "output_type": "stream",
     "text": [
      "2012 to 2013 : Authors: 342 collaborations: 191\n"
     ]
    },
    {
     "data": {
      "application/vnd.jupyter.widget-view+json": {
       "model_id": "f363b9418afa4717a6428d5a1e84cd30",
       "version_major": 2,
       "version_minor": 0
      },
      "text/plain": [
       "loop 6:   0%|          | 0/342 [00:00<?, ?it/s]"
      ]
     },
     "metadata": {},
     "output_type": "display_data"
    },
    {
     "data": {
      "application/vnd.jupyter.widget-view+json": {
       "model_id": "b726e91d6c5c42be9619901055921bb2",
       "version_major": 2,
       "version_minor": 0
      },
      "text/plain": [
       "loop 7:   0%|          | 0/342 [00:00<?, ?it/s]"
      ]
     },
     "metadata": {},
     "output_type": "display_data"
    },
    {
     "data": {
      "application/vnd.jupyter.widget-view+json": {
       "model_id": "3926b96191334eafa79f0fae439e3d2e",
       "version_major": 2,
       "version_minor": 0
      },
      "text/plain": [
       "loop 8:   0%|          | 0/342 [00:00<?, ?it/s]"
      ]
     },
     "metadata": {},
     "output_type": "display_data"
    },
    {
     "data": {
      "application/vnd.jupyter.widget-view+json": {
       "model_id": "f5ada0c3e9274ef08df5625d22ef6ecc",
       "version_major": 2,
       "version_minor": 0
      },
      "text/plain": [
       "loop 9:   0%|          | 0/342 [00:00<?, ?it/s]"
      ]
     },
     "metadata": {},
     "output_type": "display_data"
    },
    {
     "data": {
      "application/vnd.jupyter.widget-view+json": {
       "model_id": "5edf58c29113408c9547e3808265cdad",
       "version_major": 2,
       "version_minor": 0
      },
      "text/plain": [
       "loop 10:   0%|          | 0/342 [00:00<?, ?it/s]"
      ]
     },
     "metadata": {},
     "output_type": "display_data"
    },
    {
     "data": {
      "application/vnd.jupyter.widget-view+json": {
       "model_id": "d5f3aaaea0314202bc86d838b10ac9b9",
       "version_major": 2,
       "version_minor": 0
      },
      "text/plain": [
       "loop 11:   0%|          | 0/342 [00:00<?, ?it/s]"
      ]
     },
     "metadata": {},
     "output_type": "display_data"
    },
    {
     "data": {
      "application/vnd.jupyter.widget-view+json": {
       "model_id": "15ec90625a674f79aa090f80d6780cea",
       "version_major": 2,
       "version_minor": 0
      },
      "text/plain": [
       "loop 12:   0%|          | 0/342 [00:00<?, ?it/s]"
      ]
     },
     "metadata": {},
     "output_type": "display_data"
    },
    {
     "data": {
      "application/vnd.jupyter.widget-view+json": {
       "model_id": "895d15efd1b8457b941351f5acb841b2",
       "version_major": 2,
       "version_minor": 0
      },
      "text/plain": [
       "loop 13:   0%|          | 0/342 [00:00<?, ?it/s]"
      ]
     },
     "metadata": {},
     "output_type": "display_data"
    },
    {
     "data": {
      "application/vnd.jupyter.widget-view+json": {
       "model_id": "3de0ed9251de4330b493151423da5389",
       "version_major": 2,
       "version_minor": 0
      },
      "text/plain": [
       "loop 13:   0%|          | 0/342 [00:00<?, ?it/s]"
      ]
     },
     "metadata": {},
     "output_type": "display_data"
    },
    {
     "data": {
      "application/vnd.jupyter.widget-view+json": {
       "model_id": "ea89a1d47a744e7cb2ea31c6ac6fa384",
       "version_major": 2,
       "version_minor": 0
      },
      "text/plain": [
       "loop 14:   0%|          | 0/318 [00:00<?, ?it/s]"
      ]
     },
     "metadata": {},
     "output_type": "display_data"
    },
    {
     "data": {
      "application/vnd.jupyter.widget-view+json": {
       "model_id": "d9646ec2b06347d68c51e5c3fcc2bec3",
       "version_major": 2,
       "version_minor": 0
      },
      "text/plain": [
       "  0%|          | 0/58311 [00:00<?, ?it/s]"
      ]
     },
     "metadata": {},
     "output_type": "display_data"
    },
    {
     "data": {
      "application/vnd.jupyter.widget-view+json": {
       "model_id": "086731c0b1f947ba9e77ecab2db13386",
       "version_major": 2,
       "version_minor": 0
      },
      "text/plain": [
       "loop 16:   0%|          | 0/58311 [00:00<?, ?it/s]"
      ]
     },
     "metadata": {},
     "output_type": "display_data"
    },
    {
     "data": {
      "application/vnd.jupyter.widget-view+json": {
       "model_id": "fa07deba5a12473894ea98b185007276",
       "version_major": 2,
       "version_minor": 0
      },
      "text/plain": [
       "  0%|          | 0/58311 [00:00<?, ?it/s]"
      ]
     },
     "metadata": {},
     "output_type": "display_data"
    },
    {
     "data": {
      "application/vnd.jupyter.widget-view+json": {
       "model_id": "580fd67dc2d940449a3b471259d27f1f",
       "version_major": 2,
       "version_minor": 0
      },
      "text/plain": [
       "  0%|          | 0/58311 [00:00<?, ?it/s]"
      ]
     },
     "metadata": {},
     "output_type": "display_data"
    },
    {
     "data": {
      "application/vnd.jupyter.widget-view+json": {
       "model_id": "00f047d2c5f14b97b90476836fa4f111",
       "version_major": 2,
       "version_minor": 0
      },
      "text/plain": [
       "  0%|          | 0/58311 [00:00<?, ?it/s]"
      ]
     },
     "metadata": {},
     "output_type": "display_data"
    },
    {
     "data": {
      "application/vnd.jupyter.widget-view+json": {
       "model_id": "645a8801e1f44007a1f6bdaaaaaa959d",
       "version_major": 2,
       "version_minor": 0
      },
      "text/plain": [
       "loop 1:   0%|          | 0/524 [00:00<?, ?it/s]"
      ]
     },
     "metadata": {},
     "output_type": "display_data"
    },
    {
     "data": {
      "application/vnd.jupyter.widget-view+json": {
       "model_id": "c3e748733e454220a6e8863a163a18cf",
       "version_major": 2,
       "version_minor": 0
      },
      "text/plain": [
       "loop 2:   0%|          | 0/524 [00:00<?, ?it/s]"
      ]
     },
     "metadata": {},
     "output_type": "display_data"
    },
    {
     "data": {
      "application/vnd.jupyter.widget-view+json": {
       "model_id": "5ecc2f8dae3f4245bdcf27213a0bf6c5",
       "version_major": 2,
       "version_minor": 0
      },
      "text/plain": [
       "loop 3:   0%|          | 0/524 [00:00<?, ?it/s]"
      ]
     },
     "metadata": {},
     "output_type": "display_data"
    },
    {
     "data": {
      "application/vnd.jupyter.widget-view+json": {
       "model_id": "3f73241ed45c440d908fad9a6de40027",
       "version_major": 2,
       "version_minor": 0
      },
      "text/plain": [
       "loop 4:   0%|          | 0/524 [00:00<?, ?it/s]"
      ]
     },
     "metadata": {},
     "output_type": "display_data"
    },
    {
     "data": {
      "application/vnd.jupyter.widget-view+json": {
       "model_id": "43896507d3be476eb7c471a56d46180f",
       "version_major": 2,
       "version_minor": 0
      },
      "text/plain": [
       "loop 5:   0%|          | 0/524 [00:00<?, ?it/s]"
      ]
     },
     "metadata": {},
     "output_type": "display_data"
    },
    {
     "name": "stdout",
     "output_type": "stream",
     "text": [
      "2014 to 2015 : Authors: 524 collaborations: 397\n"
     ]
    },
    {
     "data": {
      "application/vnd.jupyter.widget-view+json": {
       "model_id": "57b34c044d0847af87a2f8031f8de3bc",
       "version_major": 2,
       "version_minor": 0
      },
      "text/plain": [
       "loop 6:   0%|          | 0/524 [00:00<?, ?it/s]"
      ]
     },
     "metadata": {},
     "output_type": "display_data"
    },
    {
     "data": {
      "application/vnd.jupyter.widget-view+json": {
       "model_id": "e3b2908aeabd40df9a7d86dc2d16d8ae",
       "version_major": 2,
       "version_minor": 0
      },
      "text/plain": [
       "loop 7:   0%|          | 0/524 [00:00<?, ?it/s]"
      ]
     },
     "metadata": {},
     "output_type": "display_data"
    },
    {
     "data": {
      "application/vnd.jupyter.widget-view+json": {
       "model_id": "b4074104aa474f03abf84962b9db4198",
       "version_major": 2,
       "version_minor": 0
      },
      "text/plain": [
       "loop 8:   0%|          | 0/524 [00:00<?, ?it/s]"
      ]
     },
     "metadata": {},
     "output_type": "display_data"
    },
    {
     "data": {
      "application/vnd.jupyter.widget-view+json": {
       "model_id": "3bf795a6ade74123bea159011359061a",
       "version_major": 2,
       "version_minor": 0
      },
      "text/plain": [
       "loop 9:   0%|          | 0/524 [00:00<?, ?it/s]"
      ]
     },
     "metadata": {},
     "output_type": "display_data"
    },
    {
     "data": {
      "application/vnd.jupyter.widget-view+json": {
       "model_id": "156a37c44b274e12b4acc72beddfe80d",
       "version_major": 2,
       "version_minor": 0
      },
      "text/plain": [
       "loop 10:   0%|          | 0/524 [00:00<?, ?it/s]"
      ]
     },
     "metadata": {},
     "output_type": "display_data"
    },
    {
     "data": {
      "application/vnd.jupyter.widget-view+json": {
       "model_id": "572952d8369d40399b1d3870fe053cb1",
       "version_major": 2,
       "version_minor": 0
      },
      "text/plain": [
       "loop 11:   0%|          | 0/524 [00:00<?, ?it/s]"
      ]
     },
     "metadata": {},
     "output_type": "display_data"
    },
    {
     "data": {
      "application/vnd.jupyter.widget-view+json": {
       "model_id": "a237286903884a59b9c060d565239442",
       "version_major": 2,
       "version_minor": 0
      },
      "text/plain": [
       "loop 12:   0%|          | 0/524 [00:00<?, ?it/s]"
      ]
     },
     "metadata": {},
     "output_type": "display_data"
    },
    {
     "data": {
      "application/vnd.jupyter.widget-view+json": {
       "model_id": "acc3d864433840e0bee0174f6a5b35a3",
       "version_major": 2,
       "version_minor": 0
      },
      "text/plain": [
       "loop 13:   0%|          | 0/524 [00:00<?, ?it/s]"
      ]
     },
     "metadata": {},
     "output_type": "display_data"
    },
    {
     "data": {
      "application/vnd.jupyter.widget-view+json": {
       "model_id": "195b1e6e1ba34026b3bbaa6a229e9d92",
       "version_major": 2,
       "version_minor": 0
      },
      "text/plain": [
       "loop 13:   0%|          | 0/524 [00:00<?, ?it/s]"
      ]
     },
     "metadata": {},
     "output_type": "display_data"
    },
    {
     "data": {
      "application/vnd.jupyter.widget-view+json": {
       "model_id": "a0c689cdd6b347508e2cfa2a5eff5efe",
       "version_major": 2,
       "version_minor": 0
      },
      "text/plain": [
       "loop 14:   0%|          | 0/649 [00:00<?, ?it/s]"
      ]
     },
     "metadata": {},
     "output_type": "display_data"
    },
    {
     "data": {
      "application/vnd.jupyter.widget-view+json": {
       "model_id": "3c723cd2cb8d43c3a4b166f124107d2b",
       "version_major": 2,
       "version_minor": 0
      },
      "text/plain": [
       "  0%|          | 0/137026 [00:00<?, ?it/s]"
      ]
     },
     "metadata": {},
     "output_type": "display_data"
    },
    {
     "data": {
      "application/vnd.jupyter.widget-view+json": {
       "model_id": "e1589345eb2347d48951ecea658cf6d5",
       "version_major": 2,
       "version_minor": 0
      },
      "text/plain": [
       "loop 16:   0%|          | 0/137026 [00:00<?, ?it/s]"
      ]
     },
     "metadata": {},
     "output_type": "display_data"
    },
    {
     "data": {
      "application/vnd.jupyter.widget-view+json": {
       "model_id": "c13fb8dc3c0c4f6980fa3c09b1825332",
       "version_major": 2,
       "version_minor": 0
      },
      "text/plain": [
       "  0%|          | 0/137026 [00:00<?, ?it/s]"
      ]
     },
     "metadata": {},
     "output_type": "display_data"
    },
    {
     "data": {
      "application/vnd.jupyter.widget-view+json": {
       "model_id": "3e836fa200bb4e15bc7691660fac2929",
       "version_major": 2,
       "version_minor": 0
      },
      "text/plain": [
       "  0%|          | 0/137026 [00:00<?, ?it/s]"
      ]
     },
     "metadata": {},
     "output_type": "display_data"
    },
    {
     "data": {
      "application/vnd.jupyter.widget-view+json": {
       "model_id": "c7306287c62f448ba1ca854c2e8581b9",
       "version_major": 2,
       "version_minor": 0
      },
      "text/plain": [
       "  0%|          | 0/137026 [00:00<?, ?it/s]"
      ]
     },
     "metadata": {},
     "output_type": "display_data"
    },
    {
     "data": {
      "application/vnd.jupyter.widget-view+json": {
       "model_id": "30d8798ef0354c94b266078693d8bbab",
       "version_major": 2,
       "version_minor": 0
      },
      "text/plain": [
       "loop 1:   0%|          | 0/938 [00:00<?, ?it/s]"
      ]
     },
     "metadata": {},
     "output_type": "display_data"
    },
    {
     "data": {
      "application/vnd.jupyter.widget-view+json": {
       "model_id": "f09ce478cf5543888e6a51c280fae211",
       "version_major": 2,
       "version_minor": 0
      },
      "text/plain": [
       "loop 2:   0%|          | 0/938 [00:00<?, ?it/s]"
      ]
     },
     "metadata": {},
     "output_type": "display_data"
    },
    {
     "data": {
      "application/vnd.jupyter.widget-view+json": {
       "model_id": "0a7fa2ede2e84260b1e82eee3a31e641",
       "version_major": 2,
       "version_minor": 0
      },
      "text/plain": [
       "loop 3:   0%|          | 0/938 [00:00<?, ?it/s]"
      ]
     },
     "metadata": {},
     "output_type": "display_data"
    },
    {
     "data": {
      "application/vnd.jupyter.widget-view+json": {
       "model_id": "252f2ecb2f494c45acd3ffd8a3f2130e",
       "version_major": 2,
       "version_minor": 0
      },
      "text/plain": [
       "loop 4:   0%|          | 0/938 [00:00<?, ?it/s]"
      ]
     },
     "metadata": {},
     "output_type": "display_data"
    },
    {
     "data": {
      "application/vnd.jupyter.widget-view+json": {
       "model_id": "6f39a5c0c233457fa61181d481da805d",
       "version_major": 2,
       "version_minor": 0
      },
      "text/plain": [
       "loop 5:   0%|          | 0/938 [00:00<?, ?it/s]"
      ]
     },
     "metadata": {},
     "output_type": "display_data"
    },
    {
     "name": "stdout",
     "output_type": "stream",
     "text": [
      "2016 to 2017 : Authors: 938 collaborations: 909\n"
     ]
    },
    {
     "data": {
      "application/vnd.jupyter.widget-view+json": {
       "model_id": "8668c1d610274bc8aaadef287cbeae16",
       "version_major": 2,
       "version_minor": 0
      },
      "text/plain": [
       "loop 6:   0%|          | 0/938 [00:00<?, ?it/s]"
      ]
     },
     "metadata": {},
     "output_type": "display_data"
    },
    {
     "data": {
      "application/vnd.jupyter.widget-view+json": {
       "model_id": "ac41f14f05be4308bdf855a3ed3acc88",
       "version_major": 2,
       "version_minor": 0
      },
      "text/plain": [
       "loop 7:   0%|          | 0/938 [00:00<?, ?it/s]"
      ]
     },
     "metadata": {},
     "output_type": "display_data"
    },
    {
     "data": {
      "application/vnd.jupyter.widget-view+json": {
       "model_id": "b234039137724e41bb950e893361280d",
       "version_major": 2,
       "version_minor": 0
      },
      "text/plain": [
       "loop 8:   0%|          | 0/938 [00:00<?, ?it/s]"
      ]
     },
     "metadata": {},
     "output_type": "display_data"
    },
    {
     "data": {
      "application/vnd.jupyter.widget-view+json": {
       "model_id": "896ea4a9d6164d7fad8bedf3e0e45ac1",
       "version_major": 2,
       "version_minor": 0
      },
      "text/plain": [
       "loop 9:   0%|          | 0/938 [00:00<?, ?it/s]"
      ]
     },
     "metadata": {},
     "output_type": "display_data"
    },
    {
     "data": {
      "application/vnd.jupyter.widget-view+json": {
       "model_id": "877183b3fb2d42b5af196f8ee629d890",
       "version_major": 2,
       "version_minor": 0
      },
      "text/plain": [
       "loop 10:   0%|          | 0/938 [00:00<?, ?it/s]"
      ]
     },
     "metadata": {},
     "output_type": "display_data"
    },
    {
     "data": {
      "application/vnd.jupyter.widget-view+json": {
       "model_id": "25e6eb79161246e5ad0331a9203912f2",
       "version_major": 2,
       "version_minor": 0
      },
      "text/plain": [
       "loop 11:   0%|          | 0/938 [00:00<?, ?it/s]"
      ]
     },
     "metadata": {},
     "output_type": "display_data"
    },
    {
     "data": {
      "application/vnd.jupyter.widget-view+json": {
       "model_id": "042313330c7e470098dc51ed91146ad5",
       "version_major": 2,
       "version_minor": 0
      },
      "text/plain": [
       "loop 12:   0%|          | 0/938 [00:00<?, ?it/s]"
      ]
     },
     "metadata": {},
     "output_type": "display_data"
    },
    {
     "data": {
      "application/vnd.jupyter.widget-view+json": {
       "model_id": "bea363c854764f45b19fd65727c8e475",
       "version_major": 2,
       "version_minor": 0
      },
      "text/plain": [
       "loop 13:   0%|          | 0/938 [00:00<?, ?it/s]"
      ]
     },
     "metadata": {},
     "output_type": "display_data"
    },
    {
     "data": {
      "application/vnd.jupyter.widget-view+json": {
       "model_id": "85e9708b84dd4b769183554e80888184",
       "version_major": 2,
       "version_minor": 0
      },
      "text/plain": [
       "loop 13:   0%|          | 0/938 [00:00<?, ?it/s]"
      ]
     },
     "metadata": {},
     "output_type": "display_data"
    },
    {
     "data": {
      "application/vnd.jupyter.widget-view+json": {
       "model_id": "dd563379ec6d49a4923062e1ab61ef81",
       "version_major": 2,
       "version_minor": 0
      },
      "text/plain": [
       "loop 14:   0%|          | 0/1399 [00:00<?, ?it/s]"
      ]
     },
     "metadata": {},
     "output_type": "display_data"
    },
    {
     "data": {
      "application/vnd.jupyter.widget-view+json": {
       "model_id": "4e6091a25b8e4fc3afc337922b8e89f5",
       "version_major": 2,
       "version_minor": 0
      },
      "text/plain": [
       "  0%|          | 0/439453 [00:00<?, ?it/s]"
      ]
     },
     "metadata": {},
     "output_type": "display_data"
    },
    {
     "data": {
      "application/vnd.jupyter.widget-view+json": {
       "model_id": "834d1f609ffc45feada336a5c2ccf3a2",
       "version_major": 2,
       "version_minor": 0
      },
      "text/plain": [
       "loop 16:   0%|          | 0/439453 [00:00<?, ?it/s]"
      ]
     },
     "metadata": {},
     "output_type": "display_data"
    },
    {
     "data": {
      "application/vnd.jupyter.widget-view+json": {
       "model_id": "d4dccf0186d54ca0af182e76df301d24",
       "version_major": 2,
       "version_minor": 0
      },
      "text/plain": [
       "  0%|          | 0/439453 [00:00<?, ?it/s]"
      ]
     },
     "metadata": {},
     "output_type": "display_data"
    },
    {
     "data": {
      "application/vnd.jupyter.widget-view+json": {
       "model_id": "ed6d3edf118d441f80d8d2fe415c2bed",
       "version_major": 2,
       "version_minor": 0
      },
      "text/plain": [
       "  0%|          | 0/439453 [00:00<?, ?it/s]"
      ]
     },
     "metadata": {},
     "output_type": "display_data"
    },
    {
     "data": {
      "application/vnd.jupyter.widget-view+json": {
       "model_id": "0d43dfcb387a4b8e95473fb0d489ab4d",
       "version_major": 2,
       "version_minor": 0
      },
      "text/plain": [
       "  0%|          | 0/439453 [00:00<?, ?it/s]"
      ]
     },
     "metadata": {},
     "output_type": "display_data"
    },
    {
     "data": {
      "application/vnd.jupyter.widget-view+json": {
       "model_id": "df21a5bd3a9044d8a30220897bdae5b9",
       "version_major": 2,
       "version_minor": 0
      },
      "text/plain": [
       "loop 1:   0%|          | 0/2301 [00:00<?, ?it/s]"
      ]
     },
     "metadata": {},
     "output_type": "display_data"
    },
    {
     "data": {
      "application/vnd.jupyter.widget-view+json": {
       "model_id": "45018a3a682941339e363224a5c0f6c1",
       "version_major": 2,
       "version_minor": 0
      },
      "text/plain": [
       "loop 2:   0%|          | 0/2301 [00:00<?, ?it/s]"
      ]
     },
     "metadata": {},
     "output_type": "display_data"
    },
    {
     "data": {
      "application/vnd.jupyter.widget-view+json": {
       "model_id": "2b019bb9c736415d9a001a786fd7192a",
       "version_major": 2,
       "version_minor": 0
      },
      "text/plain": [
       "loop 3:   0%|          | 0/2301 [00:00<?, ?it/s]"
      ]
     },
     "metadata": {},
     "output_type": "display_data"
    },
    {
     "data": {
      "application/vnd.jupyter.widget-view+json": {
       "model_id": "77ff6d50fc114fffb7f51a67a7cfd8e1",
       "version_major": 2,
       "version_minor": 0
      },
      "text/plain": [
       "loop 4:   0%|          | 0/2301 [00:00<?, ?it/s]"
      ]
     },
     "metadata": {},
     "output_type": "display_data"
    },
    {
     "data": {
      "application/vnd.jupyter.widget-view+json": {
       "model_id": "c93924a21e7a4f50b290a4e9b6a0a0f4",
       "version_major": 2,
       "version_minor": 0
      },
      "text/plain": [
       "loop 5:   0%|          | 0/2301 [00:00<?, ?it/s]"
      ]
     },
     "metadata": {},
     "output_type": "display_data"
    },
    {
     "name": "stdout",
     "output_type": "stream",
     "text": [
      "2018 to 2019 : Authors: 2301 collaborations: 3599\n"
     ]
    },
    {
     "data": {
      "application/vnd.jupyter.widget-view+json": {
       "model_id": "7c1d7e6cdb19427487884fcd2aa27fdd",
       "version_major": 2,
       "version_minor": 0
      },
      "text/plain": [
       "loop 6:   0%|          | 0/2301 [00:00<?, ?it/s]"
      ]
     },
     "metadata": {},
     "output_type": "display_data"
    },
    {
     "data": {
      "application/vnd.jupyter.widget-view+json": {
       "model_id": "ba7b630eda68437a8bba0d401b56415d",
       "version_major": 2,
       "version_minor": 0
      },
      "text/plain": [
       "loop 7:   0%|          | 0/2301 [00:00<?, ?it/s]"
      ]
     },
     "metadata": {},
     "output_type": "display_data"
    },
    {
     "data": {
      "application/vnd.jupyter.widget-view+json": {
       "model_id": "57a9cd6335874908adb5752ecbb898fd",
       "version_major": 2,
       "version_minor": 0
      },
      "text/plain": [
       "loop 8:   0%|          | 0/2301 [00:00<?, ?it/s]"
      ]
     },
     "metadata": {},
     "output_type": "display_data"
    },
    {
     "data": {
      "application/vnd.jupyter.widget-view+json": {
       "model_id": "d8b19c9b1fe14b1c8f72908f2bbd2498",
       "version_major": 2,
       "version_minor": 0
      },
      "text/plain": [
       "loop 9:   0%|          | 0/2301 [00:00<?, ?it/s]"
      ]
     },
     "metadata": {},
     "output_type": "display_data"
    },
    {
     "data": {
      "application/vnd.jupyter.widget-view+json": {
       "model_id": "a11770db60834ab09937a44ca9afad39",
       "version_major": 2,
       "version_minor": 0
      },
      "text/plain": [
       "loop 10:   0%|          | 0/2301 [00:00<?, ?it/s]"
      ]
     },
     "metadata": {},
     "output_type": "display_data"
    },
    {
     "data": {
      "application/vnd.jupyter.widget-view+json": {
       "model_id": "accbd00c6fed43478c5366742e2c7e0c",
       "version_major": 2,
       "version_minor": 0
      },
      "text/plain": [
       "loop 11:   0%|          | 0/2301 [00:00<?, ?it/s]"
      ]
     },
     "metadata": {},
     "output_type": "display_data"
    },
    {
     "data": {
      "application/vnd.jupyter.widget-view+json": {
       "model_id": "103dc72655424797b6148873199342a0",
       "version_major": 2,
       "version_minor": 0
      },
      "text/plain": [
       "loop 12:   0%|          | 0/2301 [00:00<?, ?it/s]"
      ]
     },
     "metadata": {},
     "output_type": "display_data"
    },
    {
     "data": {
      "application/vnd.jupyter.widget-view+json": {
       "model_id": "1996fe4f55764c1bb1462fe60d6bf5f5",
       "version_major": 2,
       "version_minor": 0
      },
      "text/plain": [
       "loop 13:   0%|          | 0/2301 [00:00<?, ?it/s]"
      ]
     },
     "metadata": {},
     "output_type": "display_data"
    },
    {
     "data": {
      "application/vnd.jupyter.widget-view+json": {
       "model_id": "b7ae92dabf954760991edb3e2b1ff772",
       "version_major": 2,
       "version_minor": 0
      },
      "text/plain": [
       "loop 13:   0%|          | 0/2301 [00:00<?, ?it/s]"
      ]
     },
     "metadata": {},
     "output_type": "display_data"
    },
    {
     "data": {
      "application/vnd.jupyter.widget-view+json": {
       "model_id": "13c1a558a631407185707cb8181f7cfc",
       "version_major": 2,
       "version_minor": 0
      },
      "text/plain": [
       "loop 14:   0%|          | 0/5818 [00:00<?, ?it/s]"
      ]
     },
     "metadata": {},
     "output_type": "display_data"
    },
    {
     "data": {
      "application/vnd.jupyter.widget-view+json": {
       "model_id": "2096ccc7d16f43128cf6f6194777579b",
       "version_major": 2,
       "version_minor": 0
      },
      "text/plain": [
       "  0%|          | 0/2646150 [00:00<?, ?it/s]"
      ]
     },
     "metadata": {},
     "output_type": "display_data"
    },
    {
     "data": {
      "application/vnd.jupyter.widget-view+json": {
       "model_id": "70dfb873567d44f8beef1abddbdc4749",
       "version_major": 2,
       "version_minor": 0
      },
      "text/plain": [
       "loop 16:   0%|          | 0/2646150 [00:00<?, ?it/s]"
      ]
     },
     "metadata": {},
     "output_type": "display_data"
    },
    {
     "data": {
      "application/vnd.jupyter.widget-view+json": {
       "model_id": "15f0fbe1eb48448ea9dc5e5a039ce884",
       "version_major": 2,
       "version_minor": 0
      },
      "text/plain": [
       "  0%|          | 0/2646150 [00:00<?, ?it/s]"
      ]
     },
     "metadata": {},
     "output_type": "display_data"
    },
    {
     "data": {
      "application/vnd.jupyter.widget-view+json": {
       "model_id": "f19ff60b787e459d8b656d661c2fbb2d",
       "version_major": 2,
       "version_minor": 0
      },
      "text/plain": [
       "  0%|          | 0/2646150 [00:00<?, ?it/s]"
      ]
     },
     "metadata": {},
     "output_type": "display_data"
    },
    {
     "data": {
      "application/vnd.jupyter.widget-view+json": {
       "model_id": "2597254298f04e47b524a00b8c62018a",
       "version_major": 2,
       "version_minor": 0
      },
      "text/plain": [
       "  0%|          | 0/2646150 [00:00<?, ?it/s]"
      ]
     },
     "metadata": {},
     "output_type": "display_data"
    },
    {
     "data": {
      "application/vnd.jupyter.widget-view+json": {
       "model_id": "388b9ff2ebd44bb682b0ba2a3329777f",
       "version_major": 2,
       "version_minor": 0
      },
      "text/plain": [
       "  0%|          | 0/3343818 [00:00<?, ?it/s]"
      ]
     },
     "metadata": {},
     "output_type": "display_data"
    },
    {
     "data": {
      "application/vnd.jupyter.widget-view+json": {
       "model_id": "8022ad3416f942958e9c3338cc9ccc94",
       "version_major": 2,
       "version_minor": 0
      },
      "text/plain": [
       "  0%|          | 0/3343818 [00:00<?, ?it/s]"
      ]
     },
     "metadata": {},
     "output_type": "display_data"
    }
   ],
   "source": [
    "# Enlarging the screen\n",
    "\n",
    "from IPython.display import display, HTML\n",
    "\n",
    "display(HTML(data=\"\"\"\n",
    "<style>\n",
    "    div#notebook-container    { width: 95%; }\n",
    "    div#menubar-container     { width: 85%; }\n",
    "    div#maintoolbar-container { width: 99%; }\n",
    "</style>\n",
    "\"\"\"))\n",
    "\n",
    "print ('Enlarging the screen is done!')\n",
    "\n",
    "# Importing libraries\n",
    "\n",
    "import numpy\n",
    "from sqlalchemy import create_engine\n",
    "import pandas as pd\n",
    "import numpy as np\n",
    "import seaborn as sns\n",
    "from matplotlib import pyplot as plt\n",
    "from tqdm.notebook import tqdm\n",
    "\n",
    "pd.set_option('max_colwidth', 100)\n",
    "pd.set_option('display.float_format', lambda x: '%.2f' % x)\n",
    "\n",
    "pd.options.mode.chained_assignment = None  # default='warn'\n",
    "\n",
    "print ('Libraries were imported successfully!')\n",
    "\n",
    "# Loading data from sql\n",
    "\n",
    "Server = 'LAPTOP-I7NEB9V3\\SQLEXPRESS'\n",
    "Database = 'Geopattern'\n",
    "Driver = 'ODBC Driver 17 for SQL Server'\n",
    "Database_Connection = f'mssql://@{Server}/{Database}?driver={Driver}'\n",
    "\n",
    "engine = create_engine(Database_Connection)\n",
    "connection = engine.connect()\n",
    "\n",
    "df_my_data = pd.read_sql_query (\n",
    "    \"select * from my_data\", connection)\n",
    "\n",
    "df_Authors = pd.read_sql_query (\n",
    "    \"select * from my_data_Authors\", connection)\n",
    "\n",
    "df_Authors['Country'].replace({'Czechia': 'Czech Republic', \n",
    "                               'North Macedonia':'Macedonia'}, inplace=True)\n",
    "\n",
    "country_list = [ 'Albania',\n",
    "                 'Austria',\n",
    "                 'Belarus',\n",
    "                 'Belgium',\n",
    "                 'Bosnia and Herzegovina',\n",
    "                 'Bulgaria',\n",
    "                 'Canada',\n",
    "                 'Croatia',\n",
    "                 'Cyprus',\n",
    "                 'Czech Republic',\n",
    "                 'Denmark',\n",
    "                 'Estonia',\n",
    "                 'Finland',\n",
    "                 'France',\n",
    "                 'Germany',\n",
    "                 'Greece',\n",
    "                 'Hungary',\n",
    "                 'Iceland',\n",
    "                 'Ireland',\n",
    "                 'Italy',\n",
    "                 'Latvia',\n",
    "                 'Lithuania',\n",
    "                 'Luxembourg',\n",
    "                 'Macedonia',\n",
    "                 'Malta',\n",
    "                 'Moldova',\n",
    "                 'Montenegro',\n",
    "                 'Netherlands',\n",
    "                 'Norway',\n",
    "                 'Poland',\n",
    "                 'Portugal',\n",
    "                 'Romania',\n",
    "                 'Russia',\n",
    "                 'Serbia',\n",
    "                 'Slovakia',\n",
    "                 'Slovenia',\n",
    "                 'Spain',\n",
    "                 'Sweden',\n",
    "                 'Switzerland',\n",
    "                 'Ukraine',\n",
    "                 'United Kingdom',\n",
    "                 'United States']\n",
    "\n",
    "df_Authors = df_Authors[df_Authors.Country.isin (country_list)]\n",
    "df_Authors['Continent'] = df_Authors.Country.map(lambda x: 'North_America' if (x == 'Canada' or x == 'United States') else 'Europe')\n",
    "\n",
    "df_west = df_my_data.merge(df_Authors, on = 'Author_ID', how = 'left')\n",
    "\n",
    "df_west = df_west[['EID', 'Author_ID', 'Year', 'Country_y', 'Continent']]\n",
    "df_west.rename(columns={'Country_y' : 'Country'}, inplace = True)\n",
    "\n",
    "df_west = df_west[~df_west.Country.isnull()]\n",
    "\n",
    "df_west.Year = df_west.Year.astype(int)\n",
    "\n",
    "df_LDA = pd.read_csv(r'C:\\Users\\moham\\Dropbox\\QSE\\Thesis\\Geopattern\\My data\\df_LDA.csv')\n",
    "df_LDA.set_index('EID', inplace = True)\n",
    "\n",
    "\n",
    "print ('Loading data from sql is done!')\n",
    "\n",
    "\n",
    "width_ind = 3\n",
    "width_dep = 2\n",
    "\n",
    "df_data_set = pd.DataFrame()\n",
    "\n",
    "list_years = []\n",
    "\n",
    "\n",
    "for yrs in range(1, 21 - width_ind - width_dep, 2):\n",
    "    list_years.append(2000 + yrs)\n",
    "\n",
    "\n",
    "for yr in tqdm(list_years, desc = 'Preparing the data set'):\n",
    "\n",
    "    Ind_win_start = yr\n",
    "    Ind_win_end = Ind_win_start + width_ind - 1\n",
    "\n",
    "    dep_win_start = Ind_win_end + 1\n",
    "    dep_win_end = dep_win_start + width_dep - 1\n",
    "\n",
    "    df_ind = df_west[(df_west.Year > (Ind_win_start - 1)) & (df_west.Year <= Ind_win_end)]\n",
    "    df_dep = df_west[(df_west.Year > (dep_win_start - 1)) & (df_west.Year <= dep_win_end)]\n",
    "\n",
    "\n",
    "    # Targets.................................................................................................. \n",
    "\n",
    "    df_count = df_ind.groupby('Author_ID').count()\n",
    "    df_count2 = df_count[df_count.EID > 1]\n",
    "    df_count2.reset_index (inplace = True)\n",
    "    df_count2.Author_ID = df_count2.Author_ID.astype('int64')\n",
    "    set_authors_ind = set(df_count2.Author_ID.tolist())\n",
    "\n",
    "    df_dep.Author_ID = df_dep.Author_ID.astype('int64')    \n",
    "    set_authors_dep = set(df_dep.Author_ID.tolist())\n",
    "\n",
    "    #  ---------------------------------------------------------------------------------\n",
    "\n",
    "    list_authors = list(set_authors_dep.intersection(set_authors_ind))\n",
    "    list_authors.sort()\n",
    "\n",
    "\n",
    "    df_authors_dep = pd.DataFrame(data = list_authors, columns = ['Author_ID'])\n",
    "\n",
    "    df_dep.Author_ID = df_dep.Author_ID.astype(str)\n",
    "    df_ind.Author_ID = df_ind.Author_ID.astype(str)\n",
    "    df_authors_dep.Author_ID = df_authors_dep.Author_ID.astype(str)\n",
    "\n",
    "    df_authors_dep.insert(1,'EIDs','')\n",
    "\n",
    "    df_authors_dep = df_authors_dep.merge(df_Authors, on = 'Author_ID', how = 'left')\n",
    "\n",
    "    authors_dep = []\n",
    "\n",
    "    for i in tqdm(range (df_authors_dep.shape[0]), desc = 'loop 1'):\n",
    "        for j in range (df_authors_dep.shape[0]):\n",
    "            if j > i:\n",
    "                authors_dep.append((df_authors_dep['Author_ID'][i] + df_authors_dep['Author_ID'][j], df_authors_dep['Author_ID'][i], df_authors_dep['Author_ID'][j]))\n",
    "\n",
    "    df_data_set_dep = pd.DataFrame(data = authors_dep, columns=['Author_1_2', 'Author_1', 'Author_2'])\n",
    "\n",
    "    df_data_set_dep = df_data_set_dep.set_index(['Author_1_2'])\n",
    "\n",
    "    df_data_set_dep.insert(2,'number_of_collaborations',0)\n",
    "    df_data_set_dep.insert(3,'collaboration_binary',0)\n",
    "\n",
    "    df_dep.reset_index(inplace = True)\n",
    "\n",
    "    df_authors_dep['EIDs'] = ''\n",
    "\n",
    "    for i in tqdm(range (df_authors_dep.shape[0]), desc = 'loop 2'):\n",
    "        df_authors_dep['EIDs'][i] = df_dep[df_dep.Author_ID == df_authors_dep.loc[i, 'Author_ID']].EID.tolist()\n",
    "\n",
    "    res = []\n",
    "    for i in tqdm(range (df_authors_dep.shape[0]), desc = 'loop 3'):\n",
    "        res.append((df_authors_dep['Author_ID'][i],set(df_authors_dep['EIDs'][i])))\n",
    "\n",
    "\n",
    "    collab_matrix = np.zeros((df_authors_dep.shape[0],df_authors_dep.shape[0]))\n",
    "\n",
    "    for i in tqdm(range (len(res)), desc = 'loop 4'):\n",
    "        for j in range (len(res)):\n",
    "            collab_matrix[i,j] = len(res[i][1].intersection(res[j][1]))\n",
    "\n",
    "    collab_list = []\n",
    "\n",
    "    for i in tqdm(range (collab_matrix.shape[0]), desc = 'loop 5'):\n",
    "        for j in range (collab_matrix.shape[0]):\n",
    "            if j > i:\n",
    "                if collab_matrix[i,j] != 0:\n",
    "                    collab_list.append((df_authors_dep['Author_ID'][i] + df_authors_dep['Author_ID'][j], df_authors_dep['Author_ID'][i], df_authors_dep['Author_ID'][j], collab_matrix[i,j]))\n",
    "\n",
    "    df_collab = pd.DataFrame(data = collab_list, columns=['Author_1_2', 'Author_1', 'Author_2', 'number_of_collaborations'])\n",
    "\n",
    "    df_collab['collaboration_binary'] = df_collab.number_of_collaborations.map(lambda x: 1 if x > 0 else 0)\n",
    "\n",
    "    print(f'{dep_win_start} to {dep_win_end} : Authors: {len(set(df_authors_dep.Author_ID.unique().tolist()))} collaborations: {df_collab.collaboration_binary.sum()}')\n",
    "\n",
    "    df_collab.set_index('Author_1_2', inplace = True)\n",
    "    df_data_set_dep.number_of_collaborations = df_collab.number_of_collaborations\n",
    "\n",
    "    df_data_set_dep.collaboration_binary = df_data_set_dep.number_of_collaborations.map(lambda x: 1 if x > 0 else 0)\n",
    "\n",
    "    # Features............................................................................................\n",
    "\n",
    "    df_authors_ind = pd.DataFrame(data = list_authors, columns = ['Author_ID'])\n",
    "\n",
    "    df_authors_ind.Author_ID = df_authors_ind.Author_ID.astype(str)\n",
    "\n",
    "    df_authors_ind.insert(1,'EIDs','')\n",
    "    df_authors_ind.insert(2,'partners',0)\n",
    "    df_authors_ind.insert(3,'topic_1',0)\n",
    "    df_authors_ind.insert(4,'topic_2',0)\n",
    "    df_authors_ind.insert(5,'topic_3',0)\n",
    "    df_authors_ind.insert(6,'topic_4',0)\n",
    "    df_authors_ind.insert(7,'topic_5',0)\n",
    "    df_authors_ind.insert(8,'topic_6',0)\n",
    "    df_authors_ind.insert(9,'topic_7',0)\n",
    "    df_authors_ind.insert(10,'topic_8',0)\n",
    "    df_authors_ind.insert(11,'topic_9',0)\n",
    "\n",
    "\n",
    "    df_authors_ind = df_authors_ind.merge(df_Authors, on = 'Author_ID', how = 'left')\n",
    "\n",
    "    df_authors_ind.reset_index(inplace = True)\n",
    "    df_ind.reset_index(inplace = True)\n",
    "\n",
    "    df_authors_ind['EIDs'] = ''\n",
    "\n",
    "    for i in tqdm(range (df_authors_ind.shape[0]), desc = 'loop 6'):\n",
    "        df_authors_ind['EIDs'][i] = df_ind[df_ind.Author_ID == df_authors_ind.loc[i, 'Author_ID']].EID.tolist()\n",
    "        df_authors_ind.loc[i, 'topic_1'] = df_LDA[df_LDA.index.isin(df_authors_ind.loc[i,'EIDs'])].topic_1.mean()\n",
    "        df_authors_ind.loc[i, 'topic_2'] = df_LDA[df_LDA.index.isin(df_authors_ind.loc[i,'EIDs'])].topic_2.mean()\n",
    "        df_authors_ind.loc[i, 'topic_3'] = df_LDA[df_LDA.index.isin(df_authors_ind.loc[i,'EIDs'])].topic_3.mean()\n",
    "        df_authors_ind.loc[i, 'topic_4'] = df_LDA[df_LDA.index.isin(df_authors_ind.loc[i,'EIDs'])].topic_4.mean()\n",
    "        df_authors_ind.loc[i, 'topic_5'] = df_LDA[df_LDA.index.isin(df_authors_ind.loc[i,'EIDs'])].topic_5.mean()\n",
    "        df_authors_ind.loc[i, 'topic_6'] = df_LDA[df_LDA.index.isin(df_authors_ind.loc[i,'EIDs'])].topic_6.mean()\n",
    "        df_authors_ind.loc[i, 'topic_7'] = df_LDA[df_LDA.index.isin(df_authors_ind.loc[i,'EIDs'])].topic_7.mean()\n",
    "        df_authors_ind.loc[i, 'topic_8'] = df_LDA[df_LDA.index.isin(df_authors_ind.loc[i,'EIDs'])].topic_8.mean()\n",
    "        df_authors_ind.loc[i, 'topic_9'] = df_LDA[df_LDA.index.isin(df_authors_ind.loc[i,'EIDs'])].topic_9.mean()\n",
    "\n",
    "    res = []\n",
    "    for i in tqdm(range (df_authors_ind.shape[0]), desc = 'loop 7'):\n",
    "        res.append((df_authors_ind['Author_ID'][i],set(df_authors_ind['EIDs'][i])))\n",
    "\n",
    "\n",
    "    collab_matrix = np.zeros((df_authors_ind.shape[0],df_authors_ind.shape[0]))\n",
    "\n",
    "    for i in tqdm(range (len(res)), desc = 'loop 8'):\n",
    "        for j in range (len(res)):\n",
    "            collab_matrix[i,j] = len(res[i][1].intersection(res[j][1]))\n",
    "\n",
    "    collab_list = []\n",
    "\n",
    "    for i in tqdm(range (collab_matrix.shape[0]), desc = 'loop 9'):\n",
    "        for j in range (collab_matrix.shape[0]):\n",
    "            if j > i:\n",
    "                if collab_matrix[i,j] != 0:\n",
    "                    collab_list.append((df_authors_ind['Author_ID'][i] + df_authors_ind['Author_ID'][j], df_authors_ind['Author_ID'][i], df_authors_ind['Author_ID'][j], collab_matrix[i,j]))\n",
    "\n",
    "    df_collab = pd.DataFrame(data = collab_list, columns=['Author_1_2', 'Author_1', 'Author_2', 'number_of_collaborations'])\n",
    "\n",
    "\n",
    "    df_collab = df_collab.set_index(['Author_1_2'])\n",
    "\n",
    "    df_authors_ind ['partners'] = ''\n",
    "\n",
    "    for i in tqdm(range (collab_matrix.shape[0]), desc = 'loop 10'):\n",
    "        for j in range (collab_matrix.shape[0]):\n",
    "            if i != j:\n",
    "                if collab_matrix[i,j] != 0:\n",
    "                    df_authors_ind ['partners'][i] = str (df_authors_ind ['partners'][i]) + ';' + str (df_authors_ind ['Author_ID'][j])\n",
    "\n",
    "    df_data_set_ind = pd.DataFrame(data = authors_dep, columns=['Author_1_2', 'Author_1', 'Author_2'])\n",
    "\n",
    "    df_data_set_ind = df_data_set_ind.set_index(['Author_1_2'])\n",
    "\n",
    "    df_data_set_ind.insert(2,'TENB',0)\n",
    "    df_data_set_ind.insert(3,'Cog_Dist', '')\n",
    "    df_data_set_ind.insert(4,'Geo_Dist',0)\n",
    "    df_data_set_ind.insert(5,'Diff_Country',0)\n",
    "    df_data_set_ind.insert(6,'Diff_Continent',0)\n",
    "    df_data_set_ind.insert(7,'Not_Contig',0)\n",
    "\n",
    "    # TENB\n",
    "\n",
    "    res_p = []\n",
    "\n",
    "\n",
    "    for i in tqdm(range (df_authors_ind.shape[0]), desc = 'loop 11'):\n",
    "            l = df_authors_ind['partners'][i].split(';')\n",
    "            l.remove('')\n",
    "            res_p.append((df_authors_ind['Author_ID'][i],set(l)))\n",
    "\n",
    "    common_partners_matrix = np.zeros((df_authors_ind.shape[0],df_authors_ind.shape[0]))\n",
    "\n",
    "    for i in tqdm(range (len(res_p)), desc = 'loop 12'):\n",
    "        for j in range (len(res_p)):\n",
    "            common_partners_matrix[i,j] = len(res_p[i][1].intersection(res_p[j][1]))\n",
    "\n",
    "    list_common_partners = []\n",
    "\n",
    "    for i in tqdm(range (common_partners_matrix.shape[0]), desc = 'loop 13'):\n",
    "        for j in range (common_partners_matrix.shape[0]):\n",
    "            if j > i:\n",
    "                if common_partners_matrix[i,j] != 0:\n",
    "                    list_common_partners.append((df_authors_ind['Author_ID'][i] + df_authors_ind['Author_ID'][j], df_authors_ind['Author_ID'][i], df_authors_ind['Author_ID'][j], res_p[i][1].intersection(res_p[j][1])))\n",
    "\n",
    "\n",
    "    df_common_partners = pd.DataFrame(data = list_common_partners, columns = ['Author_1_2','Author_1','Author_2','Common_partners'])\n",
    "    df_common_partners.insert(4,'TENB',float)\n",
    "\n",
    "    number_of_articles = []\n",
    "\n",
    "    for i in tqdm(range (collab_matrix.shape[0]), desc = 'loop 14'):\n",
    "        number_of_articles.append((df_authors_ind['Author_ID'][i], collab_matrix[i,i]))\n",
    "\n",
    "    df_number_of_articles = pd.DataFrame(data = number_of_articles, columns=['Author', 'number_of_articles'])\n",
    "\n",
    "    df_number_of_articles_ = df_number_of_articles.set_index(['Author'])\n",
    "\n",
    "    df_collab_ = df_collab.set_index(['Author_1' , 'Author_2'])\n",
    "\n",
    "    for i in tqdm(range (df_common_partners.shape[0]), desc = 'loop 15'):\n",
    "        n = len(df_common_partners['Common_partners'][i])\n",
    "        list_ENB = []\n",
    "        for j in range (n):\n",
    "            common_partner = list (df_common_partners['Common_partners'][i])[j]\n",
    "            d = df_number_of_articles_.loc[common_partner,'number_of_articles']\n",
    "            num_article_common_partner = int(d)\n",
    "            Auth_1 = df_common_partners['Author_1'][i]\n",
    "            try:\n",
    "                x = df_collab_.loc[(Auth_1,common_partner),'number_of_collaborations']\n",
    "            except KeyError:\n",
    "                x = 0\n",
    "            if x != 0:\n",
    "                num_collab_Auth_1 = x\n",
    "            else:\n",
    "                num_collab_Auth_1 = df_collab_.loc[(common_partner,Auth_1),'number_of_collaborations']\n",
    "            Auth_2 = df_common_partners['Author_2'][i]\n",
    "            try:\n",
    "                y = df_collab_.loc[(Auth_2,common_partner),'number_of_collaborations']\n",
    "            except KeyError:\n",
    "                y = 0\n",
    "            if y != 0:\n",
    "                num_collab_Auth_2 = y\n",
    "            else:\n",
    "                num_collab_Auth_2 = df_collab_.loc[(common_partner,Auth_2),'number_of_collaborations']\n",
    "            ENB = ((int(num_collab_Auth_1)) * (int(num_collab_Auth_2))) / num_article_common_partner\n",
    "            list_ENB.append(ENB)\n",
    "            TENB = sum(list_ENB)\n",
    "        df_common_partners['TENB'][i] = TENB\n",
    "\n",
    "    df_common_partners = df_common_partners.set_index(['Author_1_2'])\n",
    "\n",
    "    df_data_set_ind.TENB = df_common_partners.TENB\n",
    "\n",
    "    df_authors_ind = df_authors_ind.set_index('Author_ID')\n",
    "\n",
    "    #Cog_Dist\n",
    "\n",
    "    def Cog_Dist_ (x, y):\n",
    "        a1 = df_authors_ind.loc[x, ['topic_1', 'topic_2', 'topic_3', 'topic_4','topic_5', 'topic_6','topic_7', 'topic_8','topic_9']]\n",
    "        a2 = df_authors_ind.loc[y, ['topic_1', 'topic_2', 'topic_3', 'topic_4','topic_5', 'topic_6','topic_7', 'topic_8','topic_9']]\n",
    "        a1=a1.tolist()\n",
    "        a2=a2.tolist()\n",
    "        if a1 != [0,0,0,0,0,0,0,0,0] and a2 != [0,0,0,0,0,0,0,0,0]:\n",
    "            cor = numpy.corrcoef(a1, a2)\n",
    "            return 1 - cor[0][1]\n",
    "\n",
    "    tqdm.pandas()\n",
    "\n",
    "    df_data_set_ind.Cog_Dist = df_data_set_ind.progress_apply(lambda x: Cog_Dist_(x.Author_1, x.Author_2), axis = 1)\n",
    "\n",
    "    # Geo_Dist\n",
    "\n",
    "    import math\n",
    "\n",
    "    def Geo_Distance (lat_1,lon_1,lat_2,lon_2):\n",
    "        R = 6373.0\n",
    "        lat1 = math.radians(lat_1)\n",
    "        lon1 = math.radians(lon_1)\n",
    "        lat2 = math.radians(lat_2)\n",
    "        lon2 = math.radians(lon_2)\n",
    "        dlon = lon2 - lon1\n",
    "        dlat = lat2 - lat1\n",
    "        a = math.sin(dlat / 2)**2 + math.cos(lat1) * math.cos(lat2) * math.sin(dlon / 2)**2\n",
    "        c = 2 * math.atan2(math.sqrt(a), math.sqrt(1 - a))\n",
    "        distance = R * c\n",
    "        return distance\n",
    "\n",
    "    dist = []\n",
    "\n",
    "    for i in tqdm(df_data_set_ind.index, desc = 'loop 16'):\n",
    "        author_1 = df_data_set_ind.Author_1[i]\n",
    "        author_2 = df_data_set_ind.Author_2[i]\n",
    "        auth_1_lat = df_authors_ind.Latitude[author_1]\n",
    "        auth_1_lng = df_authors_ind.Longitude[author_1]\n",
    "        auth_2_lat = df_authors_ind.Latitude[author_2]\n",
    "        auth_2_lng = df_authors_ind.Longitude[author_2]\n",
    "\n",
    "        dist.append((author_1, author_2, Geo_Distance(auth_1_lat,auth_1_lng,auth_2_lat,auth_2_lng)))\n",
    "\n",
    "    df_geo_dist = pd.DataFrame(data = dist, columns=['Author_1', 'Author_2', 'GeoDist'])\n",
    "\n",
    "    df_geo_dist.insert(3,'Author_1_2','')\n",
    "\n",
    "    df_geo_dist.Author_1_2 = df_geo_dist.Author_1 + df_geo_dist.Author_2\n",
    "\n",
    "    df_geo_dist.set_index('Author_1_2', inplace = True)\n",
    "\n",
    "    df_data_set_ind.Geo_Dist = df_geo_dist.GeoDist\n",
    "\n",
    "    df_temp = pd.merge(df_data_set_ind, df_authors_ind, left_on = 'Author_1', right_index = True, how = 'left')\n",
    "    df_temp.rename({'Country_code':'Country_code_1'}, axis = 1, inplace = True)\n",
    "    df_temp.rename({'Continent':'Continent_1'}, axis = 1, inplace = True)\n",
    "    df_temp.drop(['EIDs','partners', 'Aff_ID', 'Latitude', 'Longitude', 'Province', 'Province_code'], axis = 1, inplace = True)\n",
    "    df_temp2 = pd.merge(df_temp, df_authors_ind, left_on = 'Author_2', right_index = True, how = 'left')\n",
    "    df_temp2.drop(['EIDs','partners', 'Aff_ID', 'Latitude', 'Longitude'], axis = 1, inplace = True)\n",
    "    df_temp2.rename({'Country_code':'Country_code_2'}, axis = 1, inplace = True)\n",
    "    df_temp2.rename({'Continent':'Continent_2'}, axis = 1, inplace = True)\n",
    "\n",
    "    def comparison_(x, y):\n",
    "        if x == y:\n",
    "            return 0\n",
    "        else:\n",
    "            return 1\n",
    "\n",
    "    tqdm.pandas()\n",
    "\n",
    "    df_temp2.Diff_Continent = df_temp2.progress_apply(lambda x: comparison_(x.Continent_1, x.Continent_2), axis = 1)\n",
    "\n",
    "    df_data_set_ind.Diff_Continent = df_temp2.Diff_Continent\n",
    "\n",
    "    df_temp2.Diff_Country = df_temp2.progress_apply(lambda x: comparison_(x.Country_code_1, x.Country_code_2), axis = 1)\n",
    "\n",
    "    df_data_set_ind.Diff_Country = df_temp2.Diff_Country\n",
    "\n",
    "    list_prov = list(df_authors_ind.Province.unique())\n",
    "\n",
    "    dic_contig = {'Canada':['United States'],\n",
    "                  'United States':['Canada'],\n",
    "                  'Austria' :['Germany', 'Czech Republic', 'Slovakia', 'Poland', 'Hungary', 'Slovenia', 'Croatia', 'Liechtenstein', 'Switzerland'],\n",
    "                  'Belgium': ['France', 'Germany', 'Luxembourg', 'Netherlands'],\n",
    "                  'Bulgaria': ['Romania', 'Serbia', 'Macedonia', 'Greece'],\n",
    "                  'Croatia': ['Bosnia and Herzegovina', 'Hungary', 'Montenegro', 'Serbia', 'Slovenia'],\n",
    "                  'Cyprus': ['Greece'],\n",
    "                  'Czech Republic': ['Poland', 'Slovakia ', 'Austria ', 'Germany '],\n",
    "                  'Denmark': ['Germany', 'Norway', 'Sweden'],\n",
    "                  'Estonia': ['Russia', 'Latvia'],\n",
    "                  'Finland': ['Sweden', 'Russia', 'Norway'],\n",
    "                  'France': ['Belgium', 'Germany', 'Italy', 'Luxembourg', 'Spain', 'Switzerland'],\n",
    "                  'Germany': ['Netherlands', 'Belgium', 'Luxembourg', 'France'],\n",
    "                  'Greece': ['Albania', 'Bulgaria', 'Macedonia'],\n",
    "                  'Hungary': ['Slovakia', 'Romania', 'Serbia', 'Croatia', 'Slovenia', 'Austria', 'Ukraine'],\n",
    "                  'Ireland': ['United Kingdom'],\n",
    "                  'Italy': ['Austria', 'France', 'Slovenia', 'Switzerland'],\n",
    "                  'Latvia': ['Estonia', 'Russia', 'Belarus', 'Lithuania'],\n",
    "                  'Lithuania': ['Latvia', 'Belarus ', 'Poland'],\n",
    "                  'Luxembourg': ['Belgium', 'France', 'Germany'],\n",
    "                  'Malta': [],\n",
    "                  'Netherlands': ['Germany', 'Belgium'],\n",
    "                  'Poland': ['Germany', 'Czech Republic', 'Slovakia', 'Ukraine', 'Belarus', 'Lithuania', 'Russia'],\n",
    "                  'Portugal': ['Spain'],\n",
    "                  'Romania': ['Ukraine', 'Moldova', 'Bulgaria', 'Serbia', 'Hungary'],\n",
    "                  'Slovakia': ['Poland', 'Ukraine', 'Hungary', 'Austria', 'Czech Republic'],\n",
    "                  'Slovenia': ['Austria', 'Italy', 'Hungary', 'Croatia'],\n",
    "                  'Spain' : ['Portugal', 'France', 'Serbia', 'Albania'],\n",
    "                  'Sweden': ['Norway', 'Finland', 'Denmark'],\n",
    "                  'United Kingdom': ['Ireland'],\n",
    "                  'Switzerland': ['France', 'Germany', 'Austria', 'Liechtenstein', 'Italy'],\n",
    "                  'Norway': ['Sweden', 'Finland', 'Russia'],\n",
    "                  'Iceland': [],\n",
    "                  'Ukraine': ['Belarus', 'Russia ', 'Moldova', 'Romania', 'Hungary', 'Slovakia', 'Poland'],\n",
    "                  'Serbia': ['Hungary', 'Romania', 'Bulgaria', 'Macedonia', 'Montenegro'],\n",
    "                  'Macedonia': ['Bulgaria', 'Greece', 'Albania'],\n",
    "                  'Bosnia and Herzegovina': ['Croatia', 'Serbia', 'Montenegro'],\n",
    "                  'Albania': ['Montenegro', 'Macedonia', 'Greece'],\n",
    "                  'Montenegro': ['Croatia', 'Bosnia and Herzegovina', 'Serbia', 'Albania'],\n",
    "                  'Belarus': ['Poland', 'Lithuania', 'Latvia', 'Russian', 'Ukraine'],\n",
    "                  'Moldova': ['Ukraine', 'Romania'],\n",
    "                  'Russia': ['Ukraine', 'Belarus', 'Latvia', 'Estonia', 'Finland', 'Norway', 'Poland']\n",
    "                 }\n",
    "\n",
    "    df_temp = pd.merge(df_data_set_ind, df_authors_ind, left_on = 'Author_1', right_index = True, how = 'left')\n",
    "    df_temp.rename({'Country':'Country_1'}, axis = 1, inplace = True)\n",
    "    df_temp.drop(['EIDs','partners', 'Aff_ID', 'Latitude', 'Longitude'], axis = 1, inplace = True)\n",
    "    df_temp2 = pd.merge(df_temp, df_authors_ind, left_on = 'Author_2', right_index = True, how = 'left')\n",
    "    df_temp2.drop(['EIDs','partners', 'Aff_ID', 'Latitude', 'Longitude'], axis = 1, inplace = True)\n",
    "    df_temp2.rename({'Country':'Country_2'}, axis = 1, inplace = True)\n",
    "\n",
    "    def contiguity_ (x, y):\n",
    "        c = dic_contig[x]\n",
    "        if c.count(y) == 1:\n",
    "            return 0\n",
    "        else:\n",
    "            return 1\n",
    "\n",
    "    df_temp2.Not_Contig = df_temp2.progress_apply(lambda x: contiguity_(x.Country_1, x.Country_2), axis = 1)\n",
    "\n",
    "    df_data_set_ind.Not_Contig = df_temp2.Not_Contig\n",
    "\n",
    "        # Country dummies\n",
    "\n",
    "    one_hot = pd.get_dummies(df_temp2[['Country_1','Country_2']])\n",
    "    df_data_set_ind = df_data_set_ind.join(one_hot)\n",
    "\n",
    "    df_data_set_ = df_data_set_dep.merge(df_data_set_ind, right_index = True, left_index = True, how = 'left')\n",
    "    df_data_set = pd.concat([df_data_set,df_data_set_])\n",
    "\n",
    "df_data_set.reset_index(inplace = True)\n",
    "df_data_set.drop(['Author_1_y', 'Author_2_y'], axis = 1, inplace = True)\n",
    "df_data_set.rename({'Author_1_x' : 'Author_1'}, axis = 1, inplace = True)\n",
    "df_data_set.rename({'Author_2_x' : 'Author_2'}, axis = 1, inplace = True)\n",
    "df_data_set.fillna(0, inplace = True)\n",
    "\n",
    "df_data_set['Log_Geo_Dist'] = df_data_set.Geo_Dist.progress_apply(lambda x :math.log1p(x))\n",
    "df_data_set['Log_TENB'] = df_data_set.TENB.progress_apply(lambda x :math.log1p(x))\n",
    "df_data_set['Log_Geo_Dist X Log_TENB'] = df_data_set['Log_Geo_Dist'] * df_data_set['Log_TENB']\n",
    "df_data_set['Log_Geo_Dist_Sq'] = df_data_set['Log_Geo_Dist'] * df_data_set['Log_Geo_Dist']\n",
    "df_data_set['Log_Geo_Dist_Sq X Log_TENB'] = df_data_set['Log_Geo_Dist_Sq'] * df_data_set['Log_TENB']\n",
    "\n",
    "df_data_set.to_csv(r'C:\\Users\\moham\\Dropbox\\QSE\\Thesis\\Geopattern\\My data\\df_data_set_Europe_North_America2a.csv')\n"
   ]
  }
 ],
 "metadata": {
  "kernelspec": {
   "display_name": "Python 3",
   "language": "python",
   "name": "python3"
  },
  "language_info": {
   "codemirror_mode": {
    "name": "ipython",
    "version": 3
   },
   "file_extension": ".py",
   "mimetype": "text/x-python",
   "name": "python",
   "nbconvert_exporter": "python",
   "pygments_lexer": "ipython3",
   "version": "3.8.8"
  }
 },
 "nbformat": 4,
 "nbformat_minor": 5
}
