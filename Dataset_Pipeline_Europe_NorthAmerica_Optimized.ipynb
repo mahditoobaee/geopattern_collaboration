{
 "cells": [
  {
   "cell_type": "code",
   "execution_count": null,
   "id": "f8d34208",
   "metadata": {},
   "outputs": [
    {
     "data": {
      "text/html": [
       "\n",
       "<style>\n",
       "    div#notebook-container    { width: 95%; }\n",
       "    div#menubar-container     { width: 85%; }\n",
       "    div#maintoolbar-container { width: 99%; }\n",
       "</style>\n"
      ],
      "text/plain": [
       "<IPython.core.display.HTML object>"
      ]
     },
     "metadata": {},
     "output_type": "display_data"
    },
    {
     "name": "stdout",
     "output_type": "stream",
     "text": [
      "Enlarging the screen is done!\n",
      "Libraries were imported successfully!\n",
      "Loading data from sql is done!\n"
     ]
    },
    {
     "data": {
      "application/vnd.jupyter.widget-view+json": {
       "model_id": "b03e15335d064a60855ddce3c1af1157",
       "version_major": 2,
       "version_minor": 0
      },
      "text/plain": [
       "Preparing the data set:   0%|          | 0/7 [00:00<?, ?it/s]"
      ]
     },
     "metadata": {},
     "output_type": "display_data"
    },
    {
     "data": {
      "application/vnd.jupyter.widget-view+json": {
       "model_id": "2fd59f7cba2d4b6eb75af6e3b96e1856",
       "version_major": 2,
       "version_minor": 0
      },
      "text/plain": [
       "loop 1:   0%|          | 0/49 [00:00<?, ?it/s]"
      ]
     },
     "metadata": {},
     "output_type": "display_data"
    },
    {
     "data": {
      "application/vnd.jupyter.widget-view+json": {
       "model_id": "4c0572de326340e38660e36441ac2e86",
       "version_major": 2,
       "version_minor": 0
      },
      "text/plain": [
       "loop 2:   0%|          | 0/49 [00:00<?, ?it/s]"
      ]
     },
     "metadata": {},
     "output_type": "display_data"
    },
    {
     "data": {
      "application/vnd.jupyter.widget-view+json": {
       "model_id": "95822e1150f94e4fb10b56418d8882f2",
       "version_major": 2,
       "version_minor": 0
      },
      "text/plain": [
       "loop 3:   0%|          | 0/49 [00:00<?, ?it/s]"
      ]
     },
     "metadata": {},
     "output_type": "display_data"
    },
    {
     "data": {
      "application/vnd.jupyter.widget-view+json": {
       "model_id": "970cfbb6994b46c0ac073e821c70d11e",
       "version_major": 2,
       "version_minor": 0
      },
      "text/plain": [
       "loop 4:   0%|          | 0/49 [00:00<?, ?it/s]"
      ]
     },
     "metadata": {},
     "output_type": "display_data"
    },
    {
     "data": {
      "application/vnd.jupyter.widget-view+json": {
       "model_id": "d8cc166ecc4242f4bb721c4271a5282d",
       "version_major": 2,
       "version_minor": 0
      },
      "text/plain": [
       "loop 5:   0%|          | 0/49 [00:00<?, ?it/s]"
      ]
     },
     "metadata": {},
     "output_type": "display_data"
    },
    {
     "name": "stdout",
     "output_type": "stream",
     "text": [
      "2004 to 2005 : Authors: 49 collaborations: 25\n"
     ]
    },
    {
     "data": {
      "application/vnd.jupyter.widget-view+json": {
       "model_id": "7125379d2f8442e398cb831c4dfcb26c",
       "version_major": 2,
       "version_minor": 0
      },
      "text/plain": [
       "loop 6:   0%|          | 0/49 [00:00<?, ?it/s]"
      ]
     },
     "metadata": {},
     "output_type": "display_data"
    },
    {
     "data": {
      "application/vnd.jupyter.widget-view+json": {
       "model_id": "bb83faa8e59240feb9bf87b6d63fa526",
       "version_major": 2,
       "version_minor": 0
      },
      "text/plain": [
       "loop 7:   0%|          | 0/49 [00:00<?, ?it/s]"
      ]
     },
     "metadata": {},
     "output_type": "display_data"
    },
    {
     "data": {
      "application/vnd.jupyter.widget-view+json": {
       "model_id": "99b299fcffdf4fd2b134c04d3da0570b",
       "version_major": 2,
       "version_minor": 0
      },
      "text/plain": [
       "loop 8:   0%|          | 0/49 [00:00<?, ?it/s]"
      ]
     },
     "metadata": {},
     "output_type": "display_data"
    },
    {
     "data": {
      "application/vnd.jupyter.widget-view+json": {
       "model_id": "b15cf1957c8d4b30be7ab0a41f549bde",
       "version_major": 2,
       "version_minor": 0
      },
      "text/plain": [
       "loop 9:   0%|          | 0/49 [00:00<?, ?it/s]"
      ]
     },
     "metadata": {},
     "output_type": "display_data"
    },
    {
     "data": {
      "application/vnd.jupyter.widget-view+json": {
       "model_id": "4336d10c2595460a8707812515d876ff",
       "version_major": 2,
       "version_minor": 0
      },
      "text/plain": [
       "loop 10:   0%|          | 0/49 [00:00<?, ?it/s]"
      ]
     },
     "metadata": {},
     "output_type": "display_data"
    },
    {
     "data": {
      "application/vnd.jupyter.widget-view+json": {
       "model_id": "b9b18c9f750d4657a9e27d0496dc2a15",
       "version_major": 2,
       "version_minor": 0
      },
      "text/plain": [
       "loop 11:   0%|          | 0/49 [00:00<?, ?it/s]"
      ]
     },
     "metadata": {},
     "output_type": "display_data"
    },
    {
     "data": {
      "application/vnd.jupyter.widget-view+json": {
       "model_id": "b335af64d2ed47f39f0ef062d1a0566d",
       "version_major": 2,
       "version_minor": 0
      },
      "text/plain": [
       "loop 12:   0%|          | 0/49 [00:00<?, ?it/s]"
      ]
     },
     "metadata": {},
     "output_type": "display_data"
    },
    {
     "data": {
      "application/vnd.jupyter.widget-view+json": {
       "model_id": "af8ae6c73c76405c95b7ed3fc78249b2",
       "version_major": 2,
       "version_minor": 0
      },
      "text/plain": [
       "loop 13:   0%|          | 0/49 [00:00<?, ?it/s]"
      ]
     },
     "metadata": {},
     "output_type": "display_data"
    },
    {
     "data": {
      "application/vnd.jupyter.widget-view+json": {
       "model_id": "661a6dff5381457187c9e1687e7c32af",
       "version_major": 2,
       "version_minor": 0
      },
      "text/plain": [
       "loop 14:   0%|          | 0/49 [00:00<?, ?it/s]"
      ]
     },
     "metadata": {},
     "output_type": "display_data"
    },
    {
     "data": {
      "application/vnd.jupyter.widget-view+json": {
       "model_id": "2268536490584cbd867750e59cd29e24",
       "version_major": 2,
       "version_minor": 0
      },
      "text/plain": [
       "loop 15:   0%|          | 0/37 [00:00<?, ?it/s]"
      ]
     },
     "metadata": {},
     "output_type": "display_data"
    },
    {
     "data": {
      "application/vnd.jupyter.widget-view+json": {
       "model_id": "06b671865b8d4dfe9aed61de7eaa3838",
       "version_major": 2,
       "version_minor": 0
      },
      "text/plain": [
       "  0%|          | 0/1176 [00:00<?, ?it/s]"
      ]
     },
     "metadata": {},
     "output_type": "display_data"
    },
    {
     "data": {
      "application/vnd.jupyter.widget-view+json": {
       "model_id": "52287c9a9fdb41b9a1083c9ab1274fb5",
       "version_major": 2,
       "version_minor": 0
      },
      "text/plain": [
       "loop 16:   0%|          | 0/1176 [00:00<?, ?it/s]"
      ]
     },
     "metadata": {},
     "output_type": "display_data"
    },
    {
     "data": {
      "application/vnd.jupyter.widget-view+json": {
       "model_id": "3d269c69611f45758370248d204855e4",
       "version_major": 2,
       "version_minor": 0
      },
      "text/plain": [
       "  0%|          | 0/1176 [00:00<?, ?it/s]"
      ]
     },
     "metadata": {},
     "output_type": "display_data"
    },
    {
     "data": {
      "application/vnd.jupyter.widget-view+json": {
       "model_id": "8d1fa89868e7467d843519fb62b54b26",
       "version_major": 2,
       "version_minor": 0
      },
      "text/plain": [
       "  0%|          | 0/1176 [00:00<?, ?it/s]"
      ]
     },
     "metadata": {},
     "output_type": "display_data"
    },
    {
     "data": {
      "application/vnd.jupyter.widget-view+json": {
       "model_id": "5695a1e26a75432d9c84a43bb3d3c8a0",
       "version_major": 2,
       "version_minor": 0
      },
      "text/plain": [
       "  0%|          | 0/1176 [00:00<?, ?it/s]"
      ]
     },
     "metadata": {},
     "output_type": "display_data"
    },
    {
     "data": {
      "application/vnd.jupyter.widget-view+json": {
       "model_id": "230424e66fb140539453e42a65013f97",
       "version_major": 2,
       "version_minor": 0
      },
      "text/plain": [
       "loop 1:   0%|          | 0/124 [00:00<?, ?it/s]"
      ]
     },
     "metadata": {},
     "output_type": "display_data"
    },
    {
     "data": {
      "application/vnd.jupyter.widget-view+json": {
       "model_id": "534cbd72d94d49adb918c1d52a12fe15",
       "version_major": 2,
       "version_minor": 0
      },
      "text/plain": [
       "loop 2:   0%|          | 0/124 [00:00<?, ?it/s]"
      ]
     },
     "metadata": {},
     "output_type": "display_data"
    },
    {
     "data": {
      "application/vnd.jupyter.widget-view+json": {
       "model_id": "90e0c66b14be4cf59031a8a2d1279cd3",
       "version_major": 2,
       "version_minor": 0
      },
      "text/plain": [
       "loop 3:   0%|          | 0/124 [00:00<?, ?it/s]"
      ]
     },
     "metadata": {},
     "output_type": "display_data"
    },
    {
     "data": {
      "application/vnd.jupyter.widget-view+json": {
       "model_id": "f07c8eaef50d485987f4903ed1e4d9b3",
       "version_major": 2,
       "version_minor": 0
      },
      "text/plain": [
       "loop 4:   0%|          | 0/124 [00:00<?, ?it/s]"
      ]
     },
     "metadata": {},
     "output_type": "display_data"
    },
    {
     "data": {
      "application/vnd.jupyter.widget-view+json": {
       "model_id": "53eee7d078e84e89b21145ffd9801dd5",
       "version_major": 2,
       "version_minor": 0
      },
      "text/plain": [
       "loop 5:   0%|          | 0/124 [00:00<?, ?it/s]"
      ]
     },
     "metadata": {},
     "output_type": "display_data"
    },
    {
     "name": "stdout",
     "output_type": "stream",
     "text": [
      "2006 to 2007 : Authors: 124 collaborations: 77\n"
     ]
    },
    {
     "data": {
      "application/vnd.jupyter.widget-view+json": {
       "model_id": "8cc41b81753f4019b2494fc4ec121e21",
       "version_major": 2,
       "version_minor": 0
      },
      "text/plain": [
       "loop 6:   0%|          | 0/124 [00:00<?, ?it/s]"
      ]
     },
     "metadata": {},
     "output_type": "display_data"
    },
    {
     "data": {
      "application/vnd.jupyter.widget-view+json": {
       "model_id": "10ed1abd487c485dadd76352e08c25d1",
       "version_major": 2,
       "version_minor": 0
      },
      "text/plain": [
       "loop 7:   0%|          | 0/124 [00:00<?, ?it/s]"
      ]
     },
     "metadata": {},
     "output_type": "display_data"
    },
    {
     "data": {
      "application/vnd.jupyter.widget-view+json": {
       "model_id": "7eaebc70ffb241eba0f1b1bed8c69288",
       "version_major": 2,
       "version_minor": 0
      },
      "text/plain": [
       "loop 8:   0%|          | 0/124 [00:00<?, ?it/s]"
      ]
     },
     "metadata": {},
     "output_type": "display_data"
    },
    {
     "data": {
      "application/vnd.jupyter.widget-view+json": {
       "model_id": "a70b1fba28584017a074e25a3e78a902",
       "version_major": 2,
       "version_minor": 0
      },
      "text/plain": [
       "loop 9:   0%|          | 0/124 [00:00<?, ?it/s]"
      ]
     },
     "metadata": {},
     "output_type": "display_data"
    },
    {
     "data": {
      "application/vnd.jupyter.widget-view+json": {
       "model_id": "8221a50a32e24abb947e441c1a6b10e2",
       "version_major": 2,
       "version_minor": 0
      },
      "text/plain": [
       "loop 10:   0%|          | 0/124 [00:00<?, ?it/s]"
      ]
     },
     "metadata": {},
     "output_type": "display_data"
    },
    {
     "data": {
      "application/vnd.jupyter.widget-view+json": {
       "model_id": "52f8e014141f4fa8abb256e7bc8ac5c8",
       "version_major": 2,
       "version_minor": 0
      },
      "text/plain": [
       "loop 11:   0%|          | 0/124 [00:00<?, ?it/s]"
      ]
     },
     "metadata": {},
     "output_type": "display_data"
    },
    {
     "data": {
      "application/vnd.jupyter.widget-view+json": {
       "model_id": "f8b2c9f25cef4190957ba4ae476fabe5",
       "version_major": 2,
       "version_minor": 0
      },
      "text/plain": [
       "loop 12:   0%|          | 0/124 [00:00<?, ?it/s]"
      ]
     },
     "metadata": {},
     "output_type": "display_data"
    },
    {
     "data": {
      "application/vnd.jupyter.widget-view+json": {
       "model_id": "56eae1e002be47a6aa206cb969d9c63e",
       "version_major": 2,
       "version_minor": 0
      },
      "text/plain": [
       "loop 13:   0%|          | 0/124 [00:00<?, ?it/s]"
      ]
     },
     "metadata": {},
     "output_type": "display_data"
    },
    {
     "data": {
      "application/vnd.jupyter.widget-view+json": {
       "model_id": "ddb718e11f6c4e0186e2b0ae91179065",
       "version_major": 2,
       "version_minor": 0
      },
      "text/plain": [
       "loop 14:   0%|          | 0/124 [00:00<?, ?it/s]"
      ]
     },
     "metadata": {},
     "output_type": "display_data"
    },
    {
     "data": {
      "application/vnd.jupyter.widget-view+json": {
       "model_id": "00e69a98ee5a4369abdf52c2a3fedca1",
       "version_major": 2,
       "version_minor": 0
      },
      "text/plain": [
       "loop 15:   0%|          | 0/98 [00:00<?, ?it/s]"
      ]
     },
     "metadata": {},
     "output_type": "display_data"
    },
    {
     "data": {
      "application/vnd.jupyter.widget-view+json": {
       "model_id": "7e3b8b4845774d718538ce9f61b7b805",
       "version_major": 2,
       "version_minor": 0
      },
      "text/plain": [
       "  0%|          | 0/7626 [00:00<?, ?it/s]"
      ]
     },
     "metadata": {},
     "output_type": "display_data"
    },
    {
     "data": {
      "application/vnd.jupyter.widget-view+json": {
       "model_id": "993f0b25d6d042b88047ef2e15878220",
       "version_major": 2,
       "version_minor": 0
      },
      "text/plain": [
       "loop 16:   0%|          | 0/7626 [00:00<?, ?it/s]"
      ]
     },
     "metadata": {},
     "output_type": "display_data"
    },
    {
     "data": {
      "application/vnd.jupyter.widget-view+json": {
       "model_id": "94c5e5781cba4414a1afec913c7465d3",
       "version_major": 2,
       "version_minor": 0
      },
      "text/plain": [
       "  0%|          | 0/7626 [00:00<?, ?it/s]"
      ]
     },
     "metadata": {},
     "output_type": "display_data"
    },
    {
     "data": {
      "application/vnd.jupyter.widget-view+json": {
       "model_id": "9d0be829553046278ad1f3827bb7d124",
       "version_major": 2,
       "version_minor": 0
      },
      "text/plain": [
       "  0%|          | 0/7626 [00:00<?, ?it/s]"
      ]
     },
     "metadata": {},
     "output_type": "display_data"
    },
    {
     "data": {
      "application/vnd.jupyter.widget-view+json": {
       "model_id": "69690f71f76146db8456d810c945618b",
       "version_major": 2,
       "version_minor": 0
      },
      "text/plain": [
       "  0%|          | 0/7626 [00:00<?, ?it/s]"
      ]
     },
     "metadata": {},
     "output_type": "display_data"
    },
    {
     "data": {
      "application/vnd.jupyter.widget-view+json": {
       "model_id": "ba4ce5fe066d4c8699569ee52548f62a",
       "version_major": 2,
       "version_minor": 0
      },
      "text/plain": [
       "loop 1:   0%|          | 0/210 [00:00<?, ?it/s]"
      ]
     },
     "metadata": {},
     "output_type": "display_data"
    },
    {
     "data": {
      "application/vnd.jupyter.widget-view+json": {
       "model_id": "27d40ca06e7341e7866ef743d55060be",
       "version_major": 2,
       "version_minor": 0
      },
      "text/plain": [
       "loop 2:   0%|          | 0/210 [00:00<?, ?it/s]"
      ]
     },
     "metadata": {},
     "output_type": "display_data"
    },
    {
     "data": {
      "application/vnd.jupyter.widget-view+json": {
       "model_id": "ffcb899e34474c6799764c8c096ebce4",
       "version_major": 2,
       "version_minor": 0
      },
      "text/plain": [
       "loop 3:   0%|          | 0/210 [00:00<?, ?it/s]"
      ]
     },
     "metadata": {},
     "output_type": "display_data"
    },
    {
     "data": {
      "application/vnd.jupyter.widget-view+json": {
       "model_id": "d93d4722f0444accac7bb230152a191f",
       "version_major": 2,
       "version_minor": 0
      },
      "text/plain": [
       "loop 4:   0%|          | 0/210 [00:00<?, ?it/s]"
      ]
     },
     "metadata": {},
     "output_type": "display_data"
    },
    {
     "data": {
      "application/vnd.jupyter.widget-view+json": {
       "model_id": "3bfe35899aa549c7997516d355933ff9",
       "version_major": 2,
       "version_minor": 0
      },
      "text/plain": [
       "loop 5:   0%|          | 0/210 [00:00<?, ?it/s]"
      ]
     },
     "metadata": {},
     "output_type": "display_data"
    },
    {
     "name": "stdout",
     "output_type": "stream",
     "text": [
      "2008 to 2009 : Authors: 210 collaborations: 130\n"
     ]
    },
    {
     "data": {
      "application/vnd.jupyter.widget-view+json": {
       "model_id": "13a2c58ccd824a7fac19fa1d915ac90a",
       "version_major": 2,
       "version_minor": 0
      },
      "text/plain": [
       "loop 6:   0%|          | 0/210 [00:00<?, ?it/s]"
      ]
     },
     "metadata": {},
     "output_type": "display_data"
    },
    {
     "data": {
      "application/vnd.jupyter.widget-view+json": {
       "model_id": "a766f31f150445f6bfb08daff0eaf7d6",
       "version_major": 2,
       "version_minor": 0
      },
      "text/plain": [
       "loop 7:   0%|          | 0/210 [00:00<?, ?it/s]"
      ]
     },
     "metadata": {},
     "output_type": "display_data"
    },
    {
     "data": {
      "application/vnd.jupyter.widget-view+json": {
       "model_id": "e629f5c431f84d81b94d2db894fbcfad",
       "version_major": 2,
       "version_minor": 0
      },
      "text/plain": [
       "loop 8:   0%|          | 0/210 [00:00<?, ?it/s]"
      ]
     },
     "metadata": {},
     "output_type": "display_data"
    },
    {
     "data": {
      "application/vnd.jupyter.widget-view+json": {
       "model_id": "5f08e450c9d54de69f475a9dd77fd5f3",
       "version_major": 2,
       "version_minor": 0
      },
      "text/plain": [
       "loop 9:   0%|          | 0/210 [00:00<?, ?it/s]"
      ]
     },
     "metadata": {},
     "output_type": "display_data"
    },
    {
     "data": {
      "application/vnd.jupyter.widget-view+json": {
       "model_id": "9757642c9c4d478fb28facfa7245ac4f",
       "version_major": 2,
       "version_minor": 0
      },
      "text/plain": [
       "loop 10:   0%|          | 0/210 [00:00<?, ?it/s]"
      ]
     },
     "metadata": {},
     "output_type": "display_data"
    },
    {
     "data": {
      "application/vnd.jupyter.widget-view+json": {
       "model_id": "a780ad239af749649bb239c18b6b8d06",
       "version_major": 2,
       "version_minor": 0
      },
      "text/plain": [
       "loop 11:   0%|          | 0/210 [00:00<?, ?it/s]"
      ]
     },
     "metadata": {},
     "output_type": "display_data"
    },
    {
     "data": {
      "application/vnd.jupyter.widget-view+json": {
       "model_id": "6d6811d7354c42ec9c8ca35935fc982f",
       "version_major": 2,
       "version_minor": 0
      },
      "text/plain": [
       "loop 12:   0%|          | 0/210 [00:00<?, ?it/s]"
      ]
     },
     "metadata": {},
     "output_type": "display_data"
    },
    {
     "data": {
      "application/vnd.jupyter.widget-view+json": {
       "model_id": "1823f3ae207d4ec0a0709ee09259fc14",
       "version_major": 2,
       "version_minor": 0
      },
      "text/plain": [
       "loop 13:   0%|          | 0/210 [00:00<?, ?it/s]"
      ]
     },
     "metadata": {},
     "output_type": "display_data"
    },
    {
     "data": {
      "application/vnd.jupyter.widget-view+json": {
       "model_id": "c06388af0a714f40835bc6fac4444cfc",
       "version_major": 2,
       "version_minor": 0
      },
      "text/plain": [
       "loop 14:   0%|          | 0/210 [00:00<?, ?it/s]"
      ]
     },
     "metadata": {},
     "output_type": "display_data"
    },
    {
     "data": {
      "application/vnd.jupyter.widget-view+json": {
       "model_id": "d80391deae8e4465acee4dd16640f934",
       "version_major": 2,
       "version_minor": 0
      },
      "text/plain": [
       "loop 15:   0%|          | 0/179 [00:00<?, ?it/s]"
      ]
     },
     "metadata": {},
     "output_type": "display_data"
    },
    {
     "data": {
      "application/vnd.jupyter.widget-view+json": {
       "model_id": "0cc4f594cfda448d92f2853d33f337c3",
       "version_major": 2,
       "version_minor": 0
      },
      "text/plain": [
       "  0%|          | 0/21945 [00:00<?, ?it/s]"
      ]
     },
     "metadata": {},
     "output_type": "display_data"
    },
    {
     "data": {
      "application/vnd.jupyter.widget-view+json": {
       "model_id": "163507e726774e3092513eebb0d74912",
       "version_major": 2,
       "version_minor": 0
      },
      "text/plain": [
       "loop 16:   0%|          | 0/21945 [00:00<?, ?it/s]"
      ]
     },
     "metadata": {},
     "output_type": "display_data"
    },
    {
     "data": {
      "application/vnd.jupyter.widget-view+json": {
       "model_id": "31d11a32fe3f4051b2ca3e21738104cc",
       "version_major": 2,
       "version_minor": 0
      },
      "text/plain": [
       "  0%|          | 0/21945 [00:00<?, ?it/s]"
      ]
     },
     "metadata": {},
     "output_type": "display_data"
    },
    {
     "data": {
      "application/vnd.jupyter.widget-view+json": {
       "model_id": "9cbb0fbe174642a3a71baee961d0a76c",
       "version_major": 2,
       "version_minor": 0
      },
      "text/plain": [
       "  0%|          | 0/21945 [00:00<?, ?it/s]"
      ]
     },
     "metadata": {},
     "output_type": "display_data"
    },
    {
     "data": {
      "application/vnd.jupyter.widget-view+json": {
       "model_id": "07f890f2e55742c0a4ebadec002bc16e",
       "version_major": 2,
       "version_minor": 0
      },
      "text/plain": [
       "  0%|          | 0/21945 [00:00<?, ?it/s]"
      ]
     },
     "metadata": {},
     "output_type": "display_data"
    },
    {
     "data": {
      "application/vnd.jupyter.widget-view+json": {
       "model_id": "548f54e4447a460db66fc5e044a74e74",
       "version_major": 2,
       "version_minor": 0
      },
      "text/plain": [
       "loop 1:   0%|          | 0/254 [00:00<?, ?it/s]"
      ]
     },
     "metadata": {},
     "output_type": "display_data"
    },
    {
     "data": {
      "application/vnd.jupyter.widget-view+json": {
       "model_id": "33512665a7c74e289fcb03b283f713a7",
       "version_major": 2,
       "version_minor": 0
      },
      "text/plain": [
       "loop 2:   0%|          | 0/254 [00:00<?, ?it/s]"
      ]
     },
     "metadata": {},
     "output_type": "display_data"
    },
    {
     "data": {
      "application/vnd.jupyter.widget-view+json": {
       "model_id": "9cbcf1319c2a4cb58b6ef26672e73cb9",
       "version_major": 2,
       "version_minor": 0
      },
      "text/plain": [
       "loop 3:   0%|          | 0/254 [00:00<?, ?it/s]"
      ]
     },
     "metadata": {},
     "output_type": "display_data"
    },
    {
     "data": {
      "application/vnd.jupyter.widget-view+json": {
       "model_id": "0246c3d4605d4e7488eb0626a83c91b9",
       "version_major": 2,
       "version_minor": 0
      },
      "text/plain": [
       "loop 4:   0%|          | 0/254 [00:00<?, ?it/s]"
      ]
     },
     "metadata": {},
     "output_type": "display_data"
    },
    {
     "data": {
      "application/vnd.jupyter.widget-view+json": {
       "model_id": "a3aa3c63f7d343c1917a708638cee213",
       "version_major": 2,
       "version_minor": 0
      },
      "text/plain": [
       "loop 5:   0%|          | 0/254 [00:00<?, ?it/s]"
      ]
     },
     "metadata": {},
     "output_type": "display_data"
    },
    {
     "name": "stdout",
     "output_type": "stream",
     "text": [
      "2010 to 2011 : Authors: 254 collaborations: 162\n"
     ]
    },
    {
     "data": {
      "application/vnd.jupyter.widget-view+json": {
       "model_id": "92a9b8a362bf4ae7b7aaed40ec664bec",
       "version_major": 2,
       "version_minor": 0
      },
      "text/plain": [
       "loop 6:   0%|          | 0/254 [00:00<?, ?it/s]"
      ]
     },
     "metadata": {},
     "output_type": "display_data"
    },
    {
     "data": {
      "application/vnd.jupyter.widget-view+json": {
       "model_id": "4508fc028e6b486ebaaad81746257ba0",
       "version_major": 2,
       "version_minor": 0
      },
      "text/plain": [
       "loop 7:   0%|          | 0/254 [00:00<?, ?it/s]"
      ]
     },
     "metadata": {},
     "output_type": "display_data"
    },
    {
     "data": {
      "application/vnd.jupyter.widget-view+json": {
       "model_id": "7ec0db24ee954b14950e5989115a3ea7",
       "version_major": 2,
       "version_minor": 0
      },
      "text/plain": [
       "loop 8:   0%|          | 0/254 [00:00<?, ?it/s]"
      ]
     },
     "metadata": {},
     "output_type": "display_data"
    },
    {
     "data": {
      "application/vnd.jupyter.widget-view+json": {
       "model_id": "89b83aae38e94137b50d98199ed838dc",
       "version_major": 2,
       "version_minor": 0
      },
      "text/plain": [
       "loop 9:   0%|          | 0/254 [00:00<?, ?it/s]"
      ]
     },
     "metadata": {},
     "output_type": "display_data"
    },
    {
     "data": {
      "application/vnd.jupyter.widget-view+json": {
       "model_id": "b4ee27773a7b4022a6c6ef131e7ede71",
       "version_major": 2,
       "version_minor": 0
      },
      "text/plain": [
       "loop 10:   0%|          | 0/254 [00:00<?, ?it/s]"
      ]
     },
     "metadata": {},
     "output_type": "display_data"
    },
    {
     "data": {
      "application/vnd.jupyter.widget-view+json": {
       "model_id": "3df79ee36f264f8f81c452199d7ce073",
       "version_major": 2,
       "version_minor": 0
      },
      "text/plain": [
       "loop 11:   0%|          | 0/254 [00:00<?, ?it/s]"
      ]
     },
     "metadata": {},
     "output_type": "display_data"
    },
    {
     "data": {
      "application/vnd.jupyter.widget-view+json": {
       "model_id": "cbada0e89ee54635b369de0c269a61c5",
       "version_major": 2,
       "version_minor": 0
      },
      "text/plain": [
       "loop 12:   0%|          | 0/254 [00:00<?, ?it/s]"
      ]
     },
     "metadata": {},
     "output_type": "display_data"
    },
    {
     "data": {
      "application/vnd.jupyter.widget-view+json": {
       "model_id": "60fd59f5ce14424087500075937a0ed9",
       "version_major": 2,
       "version_minor": 0
      },
      "text/plain": [
       "loop 13:   0%|          | 0/254 [00:00<?, ?it/s]"
      ]
     },
     "metadata": {},
     "output_type": "display_data"
    },
    {
     "data": {
      "application/vnd.jupyter.widget-view+json": {
       "model_id": "f27e42d0ab6648bb9da192694b46545f",
       "version_major": 2,
       "version_minor": 0
      },
      "text/plain": [
       "loop 14:   0%|          | 0/254 [00:00<?, ?it/s]"
      ]
     },
     "metadata": {},
     "output_type": "display_data"
    },
    {
     "data": {
      "application/vnd.jupyter.widget-view+json": {
       "model_id": "365453b84b03450f9a0b788375de1af1",
       "version_major": 2,
       "version_minor": 0
      },
      "text/plain": [
       "loop 15:   0%|          | 0/177 [00:00<?, ?it/s]"
      ]
     },
     "metadata": {},
     "output_type": "display_data"
    },
    {
     "data": {
      "application/vnd.jupyter.widget-view+json": {
       "model_id": "b9218fa0c1bb49dfa7bb1a8f298eda0f",
       "version_major": 2,
       "version_minor": 0
      },
      "text/plain": [
       "  0%|          | 0/32131 [00:00<?, ?it/s]"
      ]
     },
     "metadata": {},
     "output_type": "display_data"
    },
    {
     "data": {
      "application/vnd.jupyter.widget-view+json": {
       "model_id": "7c00ba57b9d847c7be1a2b7389bd5088",
       "version_major": 2,
       "version_minor": 0
      },
      "text/plain": [
       "loop 16:   0%|          | 0/32131 [00:00<?, ?it/s]"
      ]
     },
     "metadata": {},
     "output_type": "display_data"
    },
    {
     "data": {
      "application/vnd.jupyter.widget-view+json": {
       "model_id": "795d515d4e2e405fb0f8adce53ec218b",
       "version_major": 2,
       "version_minor": 0
      },
      "text/plain": [
       "  0%|          | 0/32131 [00:00<?, ?it/s]"
      ]
     },
     "metadata": {},
     "output_type": "display_data"
    },
    {
     "data": {
      "application/vnd.jupyter.widget-view+json": {
       "model_id": "305bda9439fa4d799456c3ba6e729c56",
       "version_major": 2,
       "version_minor": 0
      },
      "text/plain": [
       "  0%|          | 0/32131 [00:00<?, ?it/s]"
      ]
     },
     "metadata": {},
     "output_type": "display_data"
    },
    {
     "data": {
      "application/vnd.jupyter.widget-view+json": {
       "model_id": "bdeb3161c4d8455894d33361095380f6",
       "version_major": 2,
       "version_minor": 0
      },
      "text/plain": [
       "  0%|          | 0/32131 [00:00<?, ?it/s]"
      ]
     },
     "metadata": {},
     "output_type": "display_data"
    },
    {
     "data": {
      "application/vnd.jupyter.widget-view+json": {
       "model_id": "701ebd8f4a3c44b39495e31b10a1e9c4",
       "version_major": 2,
       "version_minor": 0
      },
      "text/plain": [
       "loop 1:   0%|          | 0/342 [00:00<?, ?it/s]"
      ]
     },
     "metadata": {},
     "output_type": "display_data"
    },
    {
     "data": {
      "application/vnd.jupyter.widget-view+json": {
       "model_id": "7e364b931b394bf2a9df8fc4a5732dcb",
       "version_major": 2,
       "version_minor": 0
      },
      "text/plain": [
       "loop 2:   0%|          | 0/342 [00:00<?, ?it/s]"
      ]
     },
     "metadata": {},
     "output_type": "display_data"
    },
    {
     "data": {
      "application/vnd.jupyter.widget-view+json": {
       "model_id": "20e296859e594ff5a28e59988fb1ee5c",
       "version_major": 2,
       "version_minor": 0
      },
      "text/plain": [
       "loop 3:   0%|          | 0/342 [00:00<?, ?it/s]"
      ]
     },
     "metadata": {},
     "output_type": "display_data"
    },
    {
     "data": {
      "application/vnd.jupyter.widget-view+json": {
       "model_id": "4152b249dda548e59b4a9a9c665b58f9",
       "version_major": 2,
       "version_minor": 0
      },
      "text/plain": [
       "loop 4:   0%|          | 0/342 [00:00<?, ?it/s]"
      ]
     },
     "metadata": {},
     "output_type": "display_data"
    },
    {
     "data": {
      "application/vnd.jupyter.widget-view+json": {
       "model_id": "12538c781e3d48acbaffe4ef4c1f3dc9",
       "version_major": 2,
       "version_minor": 0
      },
      "text/plain": [
       "loop 5:   0%|          | 0/342 [00:00<?, ?it/s]"
      ]
     },
     "metadata": {},
     "output_type": "display_data"
    },
    {
     "name": "stdout",
     "output_type": "stream",
     "text": [
      "2012 to 2013 : Authors: 342 collaborations: 191\n"
     ]
    },
    {
     "data": {
      "application/vnd.jupyter.widget-view+json": {
       "model_id": "c253cbeddb3e4fa6b8493b3059c3663e",
       "version_major": 2,
       "version_minor": 0
      },
      "text/plain": [
       "loop 6:   0%|          | 0/342 [00:00<?, ?it/s]"
      ]
     },
     "metadata": {},
     "output_type": "display_data"
    },
    {
     "data": {
      "application/vnd.jupyter.widget-view+json": {
       "model_id": "4bcc8a1734cc420b8baf5d7dec85a476",
       "version_major": 2,
       "version_minor": 0
      },
      "text/plain": [
       "loop 7:   0%|          | 0/342 [00:00<?, ?it/s]"
      ]
     },
     "metadata": {},
     "output_type": "display_data"
    },
    {
     "data": {
      "application/vnd.jupyter.widget-view+json": {
       "model_id": "b36d3ec60b974e4d82a2a2aac16ba934",
       "version_major": 2,
       "version_minor": 0
      },
      "text/plain": [
       "loop 8:   0%|          | 0/342 [00:00<?, ?it/s]"
      ]
     },
     "metadata": {},
     "output_type": "display_data"
    },
    {
     "data": {
      "application/vnd.jupyter.widget-view+json": {
       "model_id": "7b803823103e4b7383604fbc23e12072",
       "version_major": 2,
       "version_minor": 0
      },
      "text/plain": [
       "loop 9:   0%|          | 0/342 [00:00<?, ?it/s]"
      ]
     },
     "metadata": {},
     "output_type": "display_data"
    },
    {
     "data": {
      "application/vnd.jupyter.widget-view+json": {
       "model_id": "1a9b99d881064127b9fc6709afda0752",
       "version_major": 2,
       "version_minor": 0
      },
      "text/plain": [
       "loop 10:   0%|          | 0/342 [00:00<?, ?it/s]"
      ]
     },
     "metadata": {},
     "output_type": "display_data"
    },
    {
     "data": {
      "application/vnd.jupyter.widget-view+json": {
       "model_id": "fa0281452e944f3b98010372fdf39978",
       "version_major": 2,
       "version_minor": 0
      },
      "text/plain": [
       "loop 11:   0%|          | 0/342 [00:00<?, ?it/s]"
      ]
     },
     "metadata": {},
     "output_type": "display_data"
    },
    {
     "data": {
      "application/vnd.jupyter.widget-view+json": {
       "model_id": "707c4d2b727342c0ab898590c7e26336",
       "version_major": 2,
       "version_minor": 0
      },
      "text/plain": [
       "loop 12:   0%|          | 0/342 [00:00<?, ?it/s]"
      ]
     },
     "metadata": {},
     "output_type": "display_data"
    },
    {
     "data": {
      "application/vnd.jupyter.widget-view+json": {
       "model_id": "fdbaef93aebf450ba7e7a2c604c8c75f",
       "version_major": 2,
       "version_minor": 0
      },
      "text/plain": [
       "loop 13:   0%|          | 0/342 [00:00<?, ?it/s]"
      ]
     },
     "metadata": {},
     "output_type": "display_data"
    },
    {
     "data": {
      "application/vnd.jupyter.widget-view+json": {
       "model_id": "beb8ce37c914402e8026c39b6f1caf7e",
       "version_major": 2,
       "version_minor": 0
      },
      "text/plain": [
       "loop 14:   0%|          | 0/342 [00:00<?, ?it/s]"
      ]
     },
     "metadata": {},
     "output_type": "display_data"
    },
    {
     "data": {
      "application/vnd.jupyter.widget-view+json": {
       "model_id": "8a43a29b5aa54a5faac80bd74497a163",
       "version_major": 2,
       "version_minor": 0
      },
      "text/plain": [
       "loop 15:   0%|          | 0/318 [00:00<?, ?it/s]"
      ]
     },
     "metadata": {},
     "output_type": "display_data"
    },
    {
     "data": {
      "application/vnd.jupyter.widget-view+json": {
       "model_id": "a9e3a151d5034d0d8c0ebf2f9caee385",
       "version_major": 2,
       "version_minor": 0
      },
      "text/plain": [
       "  0%|          | 0/58311 [00:00<?, ?it/s]"
      ]
     },
     "metadata": {},
     "output_type": "display_data"
    },
    {
     "data": {
      "application/vnd.jupyter.widget-view+json": {
       "model_id": "b5cda0209d934338832f9cc2ebd84a1b",
       "version_major": 2,
       "version_minor": 0
      },
      "text/plain": [
       "loop 16:   0%|          | 0/58311 [00:00<?, ?it/s]"
      ]
     },
     "metadata": {},
     "output_type": "display_data"
    }
   ],
   "source": [
    "# Enlarging the screen\n",
    "\n",
    "from IPython.display import display, HTML\n",
    "\n",
    "display(HTML(data=\"\"\"\n",
    "<style>\n",
    "    div#notebook-container    { width: 95%; }\n",
    "    div#menubar-container     { width: 85%; }\n",
    "    div#maintoolbar-container { width: 99%; }\n",
    "</style>\n",
    "\"\"\"))\n",
    "\n",
    "print ('Enlarging the screen is done!')\n",
    "\n",
    "# Importing libraries\n",
    "\n",
    "import numpy\n",
    "from sqlalchemy import create_engine\n",
    "import pandas as pd\n",
    "import numpy as np\n",
    "import seaborn as sns\n",
    "from matplotlib import pyplot as plt\n",
    "from tqdm.notebook import tqdm\n",
    "\n",
    "pd.set_option('max_colwidth', 100)\n",
    "pd.set_option('display.float_format', lambda x: '%.2f' % x)\n",
    "\n",
    "pd.options.mode.chained_assignment = None  # default='warn'\n",
    "\n",
    "print ('Libraries were imported successfully!')\n",
    "\n",
    "# Loading data from sql\n",
    "\n",
    "Server = 'LAPTOP-I7NEB9V3\\SQLEXPRESS'\n",
    "Database = 'Geopattern'\n",
    "Driver = 'ODBC Driver 17 for SQL Server'\n",
    "Database_Connection = f'mssql://@{Server}/{Database}?driver={Driver}'\n",
    "\n",
    "engine = create_engine(Database_Connection)\n",
    "connection = engine.connect()\n",
    "\n",
    "df_my_data = pd.read_sql_query (\n",
    "    \"select * from my_data\", connection)\n",
    "\n",
    "df_Authors = pd.read_sql_query (\n",
    "    \"select * from my_data_Authors\", connection)\n",
    "\n",
    "df_Authors['Country'].replace({'Czechia': 'Czech Republic', \n",
    "                               'North Macedonia':'Macedonia'}, inplace=True)\n",
    "\n",
    "country_list = [ 'Albania',\n",
    "                 'Austria',\n",
    "                 'Belarus',\n",
    "                 'Belgium',\n",
    "                 'Bosnia and Herzegovina',\n",
    "                 'Bulgaria',\n",
    "                 'Canada',\n",
    "                 'Croatia',\n",
    "                 'Cyprus',\n",
    "                 'Czech Republic',\n",
    "                 'Denmark',\n",
    "                 'Estonia',\n",
    "                 'Finland',\n",
    "                 'France',\n",
    "                 'Germany',\n",
    "                 'Greece',\n",
    "                 'Hungary',\n",
    "                 'Iceland',\n",
    "                 'Ireland',\n",
    "                 'Italy',\n",
    "                 'Latvia',\n",
    "                 'Lithuania',\n",
    "                 'Luxembourg',\n",
    "                 'Macedonia',\n",
    "                 'Malta',\n",
    "                 'Moldova',\n",
    "                 'Montenegro',\n",
    "                 'Netherlands',\n",
    "                 'Norway',\n",
    "                 'Poland',\n",
    "                 'Portugal',\n",
    "                 'Romania',\n",
    "                 'Russia',\n",
    "                 'Serbia',\n",
    "                 'Slovakia',\n",
    "                 'Slovenia',\n",
    "                 'Spain',\n",
    "                 'Sweden',\n",
    "                 'Switzerland',\n",
    "                 'Ukraine',\n",
    "                 'United Kingdom',\n",
    "                 'United States']\n",
    "\n",
    "df_Authors = df_Authors[df_Authors.Country.isin (country_list)]\n",
    "df_Authors['Continent'] = df_Authors.Country.map(lambda x: 'North_America' if (x == 'Canada' or x == 'United States') else 'Europe')\n",
    "\n",
    "df_west = df_my_data.merge(df_Authors, on = 'Author_ID', how = 'left')\n",
    "\n",
    "df_west = df_west[['EID', 'Author_ID', 'Year', 'Country_y', 'Continent']]\n",
    "df_west.rename(columns={'Country_y' : 'Country'}, inplace = True)\n",
    "\n",
    "df_west = df_west[~df_west.Country.isnull()]\n",
    "\n",
    "df_west.Year = df_west.Year.astype(int)\n",
    "\n",
    "df_LDA = pd.read_csv(r'C:\\Users\\moham\\Dropbox\\QSE\\Thesis\\Geopattern\\My data\\df_LDA.csv')\n",
    "df_LDA.set_index('EID', inplace = True)\n",
    "\n",
    "\n",
    "print ('Loading data from sql is done!')\n",
    "\n",
    "\n",
    "width_ind = 3\n",
    "width_dep = 2\n",
    "\n",
    "df_data_set = pd.DataFrame()\n",
    "\n",
    "list_years = [2001,2003,2005,2007,2009,2011,2013]\n",
    "\n",
    "\n",
    "# for yrs in range(1, 21 - width_ind - width_dep, 2):\n",
    "#     list_years.append(2000 + yrs)\n",
    "\n",
    "\n",
    "for yr in tqdm(list_years, desc = 'Preparing the data set'):\n",
    "\n",
    "    Ind_win_start = yr\n",
    "    Ind_win_end = Ind_win_start + width_ind - 1\n",
    "\n",
    "    dep_win_start = Ind_win_end + 1\n",
    "    dep_win_end = dep_win_start + width_dep - 1\n",
    "\n",
    "    df_ind = df_west[(df_west.Year > (Ind_win_start - 1)) & (df_west.Year <= Ind_win_end)]\n",
    "    df_dep = df_west[(df_west.Year > (dep_win_start - 1)) & (df_west.Year <= dep_win_end)]\n",
    "\n",
    "\n",
    "    # Targets.................................................................................................. \n",
    "\n",
    "    df_count = df_ind.groupby('Author_ID').count()\n",
    "    df_count2 = df_count[df_count.EID > 1]\n",
    "    df_count2.reset_index (inplace = True)\n",
    "    df_count2.Author_ID = df_count2.Author_ID.astype('int64')\n",
    "    set_authors_ind = set(df_count2.Author_ID.tolist())\n",
    "\n",
    "    df_dep.Author_ID = df_dep.Author_ID.astype('int64')    \n",
    "    set_authors_dep = set(df_dep.Author_ID.tolist())\n",
    "\n",
    "    #  ---------------------------------------------------------------------------------\n",
    "\n",
    "    list_authors = list(set_authors_dep.intersection(set_authors_ind))\n",
    "    list_authors.sort()\n",
    "\n",
    "\n",
    "    df_authors_dep = pd.DataFrame(data = list_authors, columns = ['Author_ID'])\n",
    "\n",
    "    df_dep.Author_ID = df_dep.Author_ID.astype(str)\n",
    "    df_ind.Author_ID = df_ind.Author_ID.astype(str)\n",
    "    df_authors_dep.Author_ID = df_authors_dep.Author_ID.astype(str)\n",
    "\n",
    "    df_authors_dep.insert(1,'EIDs','')\n",
    "\n",
    "    df_authors_dep = df_authors_dep.merge(df_Authors, on = 'Author_ID', how = 'left')\n",
    "\n",
    "    authors_dep = []\n",
    "\n",
    "    for i in tqdm(range (df_authors_dep.shape[0]), desc = 'loop 1'):\n",
    "        for j in range (df_authors_dep.shape[0]):\n",
    "            if j > i:\n",
    "                authors_dep.append((df_authors_dep['Author_ID'][i] + df_authors_dep['Author_ID'][j], df_authors_dep['Author_ID'][i], df_authors_dep['Author_ID'][j]))\n",
    "\n",
    "    df_data_set_dep = pd.DataFrame(data = authors_dep, columns=['Author_1_2', 'Author_1', 'Author_2'])\n",
    "\n",
    "    df_data_set_dep = df_data_set_dep.set_index(['Author_1_2'])\n",
    "\n",
    "    df_data_set_dep.insert(2,'number_of_collaborations',0)\n",
    "    df_data_set_dep.insert(3,'collaboration_binary',0)\n",
    "\n",
    "    df_dep.reset_index(inplace = True)\n",
    "\n",
    "    df_authors_dep['EIDs'] = ''\n",
    "\n",
    "    for i in tqdm(range (df_authors_dep.shape[0]), desc = 'loop 2'):\n",
    "        df_authors_dep['EIDs'][i] = df_dep[df_dep.Author_ID == df_authors_dep.loc[i, 'Author_ID']].EID.tolist()\n",
    "\n",
    "    res = []\n",
    "    for i in tqdm(range (df_authors_dep.shape[0]), desc = 'loop 3'):\n",
    "        res.append((df_authors_dep['Author_ID'][i],set(df_authors_dep['EIDs'][i])))\n",
    "\n",
    "\n",
    "    collab_matrix = np.zeros((df_authors_dep.shape[0],df_authors_dep.shape[0]))\n",
    "\n",
    "    for i in tqdm(range (len(res)), desc = 'loop 4'):\n",
    "        for j in range (len(res)):\n",
    "            collab_matrix[i,j] = len(res[i][1].intersection(res[j][1]))\n",
    "\n",
    "    collab_list = []\n",
    "\n",
    "    for i in tqdm(range (collab_matrix.shape[0]), desc = 'loop 5'):\n",
    "        for j in range (collab_matrix.shape[0]):\n",
    "            if j > i:\n",
    "                if collab_matrix[i,j] != 0:\n",
    "                    collab_list.append((df_authors_dep['Author_ID'][i] + df_authors_dep['Author_ID'][j], df_authors_dep['Author_ID'][i], df_authors_dep['Author_ID'][j], collab_matrix[i,j]))\n",
    "\n",
    "    df_collab = pd.DataFrame(data = collab_list, columns=['Author_1_2', 'Author_1', 'Author_2', 'number_of_collaborations'])\n",
    "\n",
    "    df_collab['collaboration_binary'] = df_collab.number_of_collaborations.map(lambda x: 1 if x > 0 else 0)\n",
    "\n",
    "    print(f'{dep_win_start} to {dep_win_end} : Authors: {len(set(df_authors_dep.Author_ID.unique().tolist()))} collaborations: {df_collab.collaboration_binary.sum()}')\n",
    "\n",
    "    df_collab.set_index('Author_1_2', inplace = True)\n",
    "    df_data_set_dep.number_of_collaborations = df_collab.number_of_collaborations\n",
    "\n",
    "    df_data_set_dep.collaboration_binary = df_data_set_dep.number_of_collaborations.map(lambda x: 1 if x > 0 else 0)\n",
    "\n",
    "    # Features............................................................................................\n",
    "\n",
    "    df_authors_ind = pd.DataFrame(data = list_authors, columns = ['Author_ID'])\n",
    "\n",
    "    df_authors_ind.Author_ID = df_authors_ind.Author_ID.astype(str)\n",
    "\n",
    "    df_authors_ind.insert(1,'EIDs','')\n",
    "    df_authors_ind.insert(2,'partners',0)\n",
    "    df_authors_ind.insert(3,'topic_1',0)\n",
    "    df_authors_ind.insert(4,'topic_2',0)\n",
    "    df_authors_ind.insert(5,'topic_3',0)\n",
    "    df_authors_ind.insert(6,'topic_4',0)\n",
    "    df_authors_ind.insert(7,'topic_5',0)\n",
    "    df_authors_ind.insert(8,'topic_6',0)\n",
    "    df_authors_ind.insert(9,'topic_7',0)\n",
    "    df_authors_ind.insert(10,'topic_8',0)\n",
    "    df_authors_ind.insert(11,'topic_9',0)\n",
    "\n",
    "\n",
    "    df_authors_ind = df_authors_ind.merge(df_Authors, on = 'Author_ID', how = 'left')\n",
    "\n",
    "    df_authors_ind.reset_index(inplace = True)\n",
    "    df_ind.reset_index(inplace = True)\n",
    "\n",
    "    df_authors_ind['EIDs'] = ''\n",
    "\n",
    "    for i in tqdm(range (df_authors_ind.shape[0]), desc = 'loop 6'):\n",
    "        df_authors_ind['EIDs'][i] = df_ind[df_ind.Author_ID == df_authors_ind.loc[i, 'Author_ID']].EID.tolist()\n",
    "        df_authors_ind.loc[i, 'topic_1'] = df_LDA[df_LDA.index.isin(df_authors_ind.loc[i,'EIDs'])].topic_1.mean()\n",
    "        df_authors_ind.loc[i, 'topic_2'] = df_LDA[df_LDA.index.isin(df_authors_ind.loc[i,'EIDs'])].topic_2.mean()\n",
    "        df_authors_ind.loc[i, 'topic_3'] = df_LDA[df_LDA.index.isin(df_authors_ind.loc[i,'EIDs'])].topic_3.mean()\n",
    "        df_authors_ind.loc[i, 'topic_4'] = df_LDA[df_LDA.index.isin(df_authors_ind.loc[i,'EIDs'])].topic_4.mean()\n",
    "        df_authors_ind.loc[i, 'topic_5'] = df_LDA[df_LDA.index.isin(df_authors_ind.loc[i,'EIDs'])].topic_5.mean()\n",
    "        df_authors_ind.loc[i, 'topic_6'] = df_LDA[df_LDA.index.isin(df_authors_ind.loc[i,'EIDs'])].topic_6.mean()\n",
    "        df_authors_ind.loc[i, 'topic_7'] = df_LDA[df_LDA.index.isin(df_authors_ind.loc[i,'EIDs'])].topic_7.mean()\n",
    "        df_authors_ind.loc[i, 'topic_8'] = df_LDA[df_LDA.index.isin(df_authors_ind.loc[i,'EIDs'])].topic_8.mean()\n",
    "        df_authors_ind.loc[i, 'topic_9'] = df_LDA[df_LDA.index.isin(df_authors_ind.loc[i,'EIDs'])].topic_9.mean()\n",
    "\n",
    "    res = []\n",
    "    for i in tqdm(range (df_authors_ind.shape[0]), desc = 'loop 7'):\n",
    "        res.append((df_authors_ind['Author_ID'][i],set(df_authors_ind['EIDs'][i])))\n",
    "\n",
    "\n",
    "    collab_matrix = np.zeros((df_authors_ind.shape[0],df_authors_ind.shape[0]))\n",
    "\n",
    "    for i in tqdm(range (len(res)), desc = 'loop 8'):\n",
    "        for j in range (len(res)):\n",
    "            collab_matrix[i,j] = len(res[i][1].intersection(res[j][1]))\n",
    "\n",
    "    collab_list = []\n",
    "\n",
    "    for i in tqdm(range (collab_matrix.shape[0]), desc = 'loop 9'):\n",
    "        for j in range (collab_matrix.shape[0]):\n",
    "            if j > i:\n",
    "                if collab_matrix[i,j] != 0:\n",
    "                    collab_list.append((df_authors_ind['Author_ID'][i] + df_authors_ind['Author_ID'][j], df_authors_ind['Author_ID'][i], df_authors_ind['Author_ID'][j], collab_matrix[i,j]))\n",
    "\n",
    "    df_collab = pd.DataFrame(data = collab_list, columns=['Author_1_2', 'Author_1', 'Author_2', 'number_of_collaborations'])\n",
    "\n",
    "\n",
    "    df_collab = df_collab.set_index(['Author_1_2'])\n",
    "\n",
    "    df_authors_ind ['partners'] = ''\n",
    "\n",
    "    for i in tqdm(range (collab_matrix.shape[0]), desc = 'loop 10'):\n",
    "        for j in range (collab_matrix.shape[0]):\n",
    "            if i != j:\n",
    "                if collab_matrix[i,j] != 0:\n",
    "                    df_authors_ind ['partners'][i] = str (df_authors_ind ['partners'][i]) + ';' + str (df_authors_ind ['Author_ID'][j])\n",
    "\n",
    "    df_data_set_ind = pd.DataFrame(data = authors_dep, columns=['Author_1_2', 'Author_1', 'Author_2'])\n",
    "\n",
    "    df_data_set_ind = df_data_set_ind.set_index(['Author_1_2'])\n",
    "\n",
    "    df_data_set_ind.insert(2,'TENB',0)\n",
    "    df_data_set_ind.insert(3,'Cog_Dist', '')\n",
    "    df_data_set_ind.insert(4,'Geo_Dist',0)\n",
    "    df_data_set_ind.insert(5,'Diff_Country',0)\n",
    "    df_data_set_ind.insert(6,'Diff_Continent',0)\n",
    "    df_data_set_ind.insert(7,'Not_Contig',0)\n",
    "\n",
    "    # TENB\n",
    "\n",
    "    res_p = []\n",
    "\n",
    "\n",
    "    for i in tqdm(range (df_authors_ind.shape[0]), desc = 'loop 11'):\n",
    "            l = df_authors_ind['partners'][i].split(';')\n",
    "            l.remove('')\n",
    "            res_p.append((df_authors_ind['Author_ID'][i],set(l)))\n",
    "\n",
    "    common_partners_matrix = np.zeros((df_authors_ind.shape[0],df_authors_ind.shape[0]))\n",
    "\n",
    "    for i in tqdm(range (len(res_p)), desc = 'loop 12'):\n",
    "        for j in range (len(res_p)):\n",
    "            common_partners_matrix[i,j] = len(res_p[i][1].intersection(res_p[j][1]))\n",
    "\n",
    "    list_common_partners = []\n",
    "\n",
    "    for i in tqdm(range (common_partners_matrix.shape[0]), desc = 'loop 13'):\n",
    "        for j in range (common_partners_matrix.shape[0]):\n",
    "            if j > i:\n",
    "                if common_partners_matrix[i,j] != 0:\n",
    "                    list_common_partners.append((df_authors_ind['Author_ID'][i] + df_authors_ind['Author_ID'][j], df_authors_ind['Author_ID'][i], df_authors_ind['Author_ID'][j], res_p[i][1].intersection(res_p[j][1])))\n",
    "\n",
    "\n",
    "    df_common_partners = pd.DataFrame(data = list_common_partners, columns = ['Author_1_2','Author_1','Author_2','Common_partners'])\n",
    "    df_common_partners.insert(4,'TENB',float)\n",
    "\n",
    "    number_of_articles = []\n",
    "\n",
    "    for i in tqdm(range (collab_matrix.shape[0]), desc = 'loop 14'):\n",
    "        number_of_articles.append((df_authors_ind['Author_ID'][i], collab_matrix[i,i]))\n",
    "\n",
    "    df_number_of_articles = pd.DataFrame(data = number_of_articles, columns=['Author', 'number_of_articles'])\n",
    "\n",
    "    df_number_of_articles_ = df_number_of_articles.set_index(['Author'])\n",
    "\n",
    "    df_collab_ = df_collab.set_index(['Author_1' , 'Author_2'])\n",
    "\n",
    "    for i in tqdm(range (df_common_partners.shape[0]), desc = 'loop 15'):\n",
    "        n = len(df_common_partners['Common_partners'][i])\n",
    "        list_ENB = []\n",
    "        for j in range (n):\n",
    "            common_partner = list (df_common_partners['Common_partners'][i])[j]\n",
    "            d = df_number_of_articles_.loc[common_partner,'number_of_articles']\n",
    "            num_article_common_partner = int(d)\n",
    "            Auth_1 = df_common_partners['Author_1'][i]\n",
    "            try:\n",
    "                x = df_collab_.loc[(Auth_1,common_partner),'number_of_collaborations']\n",
    "            except KeyError:\n",
    "                x = 0\n",
    "            if x != 0:\n",
    "                num_collab_Auth_1 = x\n",
    "            else:\n",
    "                num_collab_Auth_1 = df_collab_.loc[(common_partner,Auth_1),'number_of_collaborations']\n",
    "            Auth_2 = df_common_partners['Author_2'][i]\n",
    "            try:\n",
    "                y = df_collab_.loc[(Auth_2,common_partner),'number_of_collaborations']\n",
    "            except KeyError:\n",
    "                y = 0\n",
    "            if y != 0:\n",
    "                num_collab_Auth_2 = y\n",
    "            else:\n",
    "                num_collab_Auth_2 = df_collab_.loc[(common_partner,Auth_2),'number_of_collaborations']\n",
    "            ENB = ((int(num_collab_Auth_1)) * (int(num_collab_Auth_2))) / num_article_common_partner\n",
    "            list_ENB.append(ENB)\n",
    "            TENB = sum(list_ENB)\n",
    "        df_common_partners['TENB'][i] = TENB\n",
    "\n",
    "    df_common_partners = df_common_partners.set_index(['Author_1_2'])\n",
    "\n",
    "    df_data_set_ind.TENB = df_common_partners.TENB\n",
    "\n",
    "    df_authors_ind = df_authors_ind.set_index('Author_ID')\n",
    "\n",
    "    #Cog_Dist\n",
    "\n",
    "    def Cog_Dist_ (x, y):\n",
    "        a1 = df_authors_ind.loc[x, ['topic_1', 'topic_2', 'topic_3', 'topic_4','topic_5', 'topic_6','topic_7', 'topic_8','topic_9']]\n",
    "        a2 = df_authors_ind.loc[y, ['topic_1', 'topic_2', 'topic_3', 'topic_4','topic_5', 'topic_6','topic_7', 'topic_8','topic_9']]\n",
    "        a1=a1.tolist()\n",
    "        a2=a2.tolist()\n",
    "        if a1 != [0,0,0,0,0,0,0,0,0] and a2 != [0,0,0,0,0,0,0,0,0]:\n",
    "            cor = numpy.corrcoef(a1, a2)\n",
    "            return 1 - cor[0][1]\n",
    "\n",
    "    tqdm.pandas()\n",
    "\n",
    "    df_data_set_ind.Cog_Dist = df_data_set_ind.progress_apply(lambda x: Cog_Dist_(x.Author_1, x.Author_2), axis = 1)\n",
    "\n",
    "    # Geo_Dist\n",
    "\n",
    "    import math\n",
    "\n",
    "    def Geo_Distance (lat_1,lon_1,lat_2,lon_2):\n",
    "        R = 6373.0\n",
    "        lat1 = math.radians(lat_1)\n",
    "        lon1 = math.radians(lon_1)\n",
    "        lat2 = math.radians(lat_2)\n",
    "        lon2 = math.radians(lon_2)\n",
    "        dlon = lon2 - lon1\n",
    "        dlat = lat2 - lat1\n",
    "        a = math.sin(dlat / 2)**2 + math.cos(lat1) * math.cos(lat2) * math.sin(dlon / 2)**2\n",
    "        c = 2 * math.atan2(math.sqrt(a), math.sqrt(1 - a))\n",
    "        distance = R * c\n",
    "        return distance\n",
    "\n",
    "    dist = []\n",
    "\n",
    "    for i in tqdm(df_data_set_ind.index, desc = 'loop 16'):\n",
    "        author_1 = df_data_set_ind.Author_1[i]\n",
    "        author_2 = df_data_set_ind.Author_2[i]\n",
    "        auth_1_lat = df_authors_ind.Latitude[author_1]\n",
    "        auth_1_lng = df_authors_ind.Longitude[author_1]\n",
    "        auth_2_lat = df_authors_ind.Latitude[author_2]\n",
    "        auth_2_lng = df_authors_ind.Longitude[author_2]\n",
    "\n",
    "        dist.append((author_1, author_2, Geo_Distance(auth_1_lat,auth_1_lng,auth_2_lat,auth_2_lng)))\n",
    "\n",
    "    df_geo_dist = pd.DataFrame(data = dist, columns=['Author_1', 'Author_2', 'GeoDist'])\n",
    "\n",
    "    df_geo_dist.insert(3,'Author_1_2','')\n",
    "\n",
    "    df_geo_dist.Author_1_2 = df_geo_dist.Author_1 + df_geo_dist.Author_2\n",
    "\n",
    "    df_geo_dist.set_index('Author_1_2', inplace = True)\n",
    "\n",
    "    df_data_set_ind.Geo_Dist = df_geo_dist.GeoDist\n",
    "\n",
    "    df_temp = pd.merge(df_data_set_ind, df_authors_ind, left_on = 'Author_1', right_index = True, how = 'left')\n",
    "    df_temp.rename({'Country_code':'Country_code_1'}, axis = 1, inplace = True)\n",
    "    df_temp.rename({'Continent':'Continent_1'}, axis = 1, inplace = True)\n",
    "    df_temp.drop(['EIDs','partners', 'Aff_ID', 'Latitude', 'Longitude', 'Province', 'Province_code'], axis = 1, inplace = True)\n",
    "    df_temp2 = pd.merge(df_temp, df_authors_ind, left_on = 'Author_2', right_index = True, how = 'left')\n",
    "    df_temp2.drop(['EIDs','partners', 'Aff_ID', 'Latitude', 'Longitude'], axis = 1, inplace = True)\n",
    "    df_temp2.rename({'Country_code':'Country_code_2'}, axis = 1, inplace = True)\n",
    "    df_temp2.rename({'Continent':'Continent_2'}, axis = 1, inplace = True)\n",
    "\n",
    "    def comparison_(x, y):\n",
    "        if x == y:\n",
    "            return 0\n",
    "        else:\n",
    "            return 1\n",
    "\n",
    "    tqdm.pandas()\n",
    "\n",
    "    df_temp2.Diff_Continent = df_temp2.progress_apply(lambda x: comparison_(x.Continent_1, x.Continent_2), axis = 1)\n",
    "\n",
    "    df_data_set_ind.Diff_Continent = df_temp2.Diff_Continent\n",
    "\n",
    "    df_temp2.Diff_Country = df_temp2.progress_apply(lambda x: comparison_(x.Country_code_1, x.Country_code_2), axis = 1)\n",
    "\n",
    "    df_data_set_ind.Diff_Country = df_temp2.Diff_Country\n",
    "\n",
    "    list_prov = list(df_authors_ind.Province.unique())\n",
    "\n",
    "    dic_contig = {'Canada':['United States'],\n",
    "                  'United States':['Canada'],\n",
    "                  'Austria' :['Germany', 'Czech Republic', 'Slovakia', 'Poland', 'Hungary', 'Slovenia', 'Croatia', 'Liechtenstein', 'Switzerland'],\n",
    "                  'Belgium': ['France', 'Germany', 'Luxembourg', 'Netherlands'],\n",
    "                  'Bulgaria': ['Romania', 'Serbia', 'Macedonia', 'Greece'],\n",
    "                  'Croatia': ['Bosnia and Herzegovina', 'Hungary', 'Montenegro', 'Serbia', 'Slovenia'],\n",
    "                  'Cyprus': ['Greece'],\n",
    "                  'Czech Republic': ['Poland', 'Slovakia ', 'Austria ', 'Germany '],\n",
    "                  'Denmark': ['Germany', 'Norway', 'Sweden'],\n",
    "                  'Estonia': ['Russia', 'Latvia'],\n",
    "                  'Finland': ['Sweden', 'Russia', 'Norway'],\n",
    "                  'France': ['Belgium', 'Germany', 'Italy', 'Luxembourg', 'Spain', 'Switzerland'],\n",
    "                  'Germany': ['Netherlands', 'Belgium', 'Luxembourg', 'France'],\n",
    "                  'Greece': ['Albania', 'Bulgaria', 'Macedonia'],\n",
    "                  'Hungary': ['Slovakia', 'Romania', 'Serbia', 'Croatia', 'Slovenia', 'Austria', 'Ukraine'],\n",
    "                  'Ireland': ['United Kingdom'],\n",
    "                  'Italy': ['Austria', 'France', 'Slovenia', 'Switzerland'],\n",
    "                  'Latvia': ['Estonia', 'Russia', 'Belarus', 'Lithuania'],\n",
    "                  'Lithuania': ['Latvia', 'Belarus ', 'Poland'],\n",
    "                  'Luxembourg': ['Belgium', 'France', 'Germany'],\n",
    "                  'Malta': [],\n",
    "                  'Netherlands': ['Germany', 'Belgium'],\n",
    "                  'Poland': ['Germany', 'Czech Republic', 'Slovakia', 'Ukraine', 'Belarus', 'Lithuania', 'Russia'],\n",
    "                  'Portugal': ['Spain'],\n",
    "                  'Romania': ['Ukraine', 'Moldova', 'Bulgaria', 'Serbia', 'Hungary'],\n",
    "                  'Slovakia': ['Poland', 'Ukraine', 'Hungary', 'Austria', 'Czech Republic'],\n",
    "                  'Slovenia': ['Austria', 'Italy', 'Hungary', 'Croatia'],\n",
    "                  'Spain' : ['Portugal', 'France', 'Serbia', 'Albania'],\n",
    "                  'Sweden': ['Norway', 'Finland', 'Denmark'],\n",
    "                  'United Kingdom': ['Ireland'],\n",
    "                  'Switzerland': ['France', 'Germany', 'Austria', 'Liechtenstein', 'Italy'],\n",
    "                  'Norway': ['Sweden', 'Finland', 'Russia'],\n",
    "                  'Iceland': [],\n",
    "                  'Ukraine': ['Belarus', 'Russia ', 'Moldova', 'Romania', 'Hungary', 'Slovakia', 'Poland'],\n",
    "                  'Serbia': ['Hungary', 'Romania', 'Bulgaria', 'Macedonia', 'Montenegro'],\n",
    "                  'Macedonia': ['Bulgaria', 'Greece', 'Albania'],\n",
    "                  'Bosnia and Herzegovina': ['Croatia', 'Serbia', 'Montenegro'],\n",
    "                  'Albania': ['Montenegro', 'Macedonia', 'Greece'],\n",
    "                  'Montenegro': ['Croatia', 'Bosnia and Herzegovina', 'Serbia', 'Albania'],\n",
    "                  'Belarus': ['Poland', 'Lithuania', 'Latvia', 'Russian', 'Ukraine'],\n",
    "                  'Moldova': ['Ukraine', 'Romania'],\n",
    "                  'Russia': ['Ukraine', 'Belarus', 'Latvia', 'Estonia', 'Finland', 'Norway', 'Poland']\n",
    "                 }\n",
    "\n",
    "    df_temp = pd.merge(df_data_set_ind, df_authors_ind, left_on = 'Author_1', right_index = True, how = 'left')\n",
    "    df_temp.rename({'Country':'Country_1'}, axis = 1, inplace = True)\n",
    "    df_temp.drop(['EIDs','partners', 'Aff_ID', 'Latitude', 'Longitude'], axis = 1, inplace = True)\n",
    "    df_temp2 = pd.merge(df_temp, df_authors_ind, left_on = 'Author_2', right_index = True, how = 'left')\n",
    "    df_temp2.drop(['EIDs','partners', 'Aff_ID', 'Latitude', 'Longitude'], axis = 1, inplace = True)\n",
    "    df_temp2.rename({'Country':'Country_2'}, axis = 1, inplace = True)\n",
    "\n",
    "    def contiguity_ (x, y):\n",
    "        c = dic_contig[x]\n",
    "        if c.count(y) == 1:\n",
    "            return 0\n",
    "        else:\n",
    "            return 1\n",
    "\n",
    "    df_temp2.Not_Contig = df_temp2.progress_apply(lambda x: contiguity_(x.Country_1, x.Country_2), axis = 1)\n",
    "\n",
    "    df_data_set_ind.Not_Contig = df_temp2.Not_Contig\n",
    "\n",
    "        # Country dummies\n",
    "\n",
    "    one_hot = pd.get_dummies(df_temp2[['Country_1','Country_2']])\n",
    "    df_data_set_ind = df_data_set_ind.join(one_hot)\n",
    "\n",
    "    df_data_set_ = df_data_set_dep.merge(df_data_set_ind, right_index = True, left_index = True, how = 'left')\n",
    "    df_data_set = pd.concat([df_data_set,df_data_set_])\n",
    "\n",
    "df_data_set.reset_index(inplace = True)\n",
    "df_data_set.drop(['Author_1_y', 'Author_2_y'], axis = 1, inplace = True)\n",
    "df_data_set.rename({'Author_1_x' : 'Author_1'}, axis = 1, inplace = True)\n",
    "df_data_set.rename({'Author_2_x' : 'Author_2'}, axis = 1, inplace = True)\n",
    "df_data_set.fillna(0, inplace = True)\n",
    "\n",
    "df_data_set['Log_Geo_Dist'] = df_data_set.Geo_Dist.progress_apply(lambda x :math.log1p(x))\n",
    "df_data_set['Log_TENB'] = df_data_set.TENB.progress_apply(lambda x :math.log1p(x))\n",
    "df_data_set['Log_Geo_Dist X Log_TENB'] = df_data_set['Log_Geo_Dist'] * df_data_set['Log_TENB']\n",
    "df_data_set['Log_Geo_Dist_Sq'] = df_data_set['Log_Geo_Dist'] * df_data_set['Log_Geo_Dist']\n",
    "df_data_set['Log_Geo_Dist_Sq X Log_TENB'] = df_data_set['Log_Geo_Dist_Sq'] * df_data_set['Log_TENB']\n",
    "\n",
    "df_data_set.to_csv(r'C:\\Users\\moham\\Dropbox\\QSE\\Thesis\\Geopattern\\My data\\df_data_set_Europe_North_America2a_test.csv')\n"
   ]
  }
 ],
 "metadata": {
  "kernelspec": {
   "display_name": "Python 3",
   "language": "python",
   "name": "python3"
  },
  "language_info": {
   "codemirror_mode": {
    "name": "ipython",
    "version": 3
   },
   "file_extension": ".py",
   "mimetype": "text/x-python",
   "name": "python",
   "nbconvert_exporter": "python",
   "pygments_lexer": "ipython3",
   "version": "3.8.8"
  }
 },
 "nbformat": 4,
 "nbformat_minor": 5
}
